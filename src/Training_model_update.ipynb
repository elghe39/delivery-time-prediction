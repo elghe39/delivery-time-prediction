{
 "cells": [
  {
   "cell_type": "markdown",
   "metadata": {},
   "source": [
    "#### Read Data"
   ]
  },
  {
   "cell_type": "code",
   "execution_count": 216,
   "metadata": {},
   "outputs": [],
   "source": [
    "import pandas as pd\n",
    "import numpy as np\n",
    "import matplotlib.pyplot as plt\n",
    "%matplotlib inline\n",
    "import seaborn as sns\n",
    "import missingno as msno\n",
    "from scipy import stats\n",
    "import statistics as st"
   ]
  },
  {
   "cell_type": "code",
   "execution_count": 217,
   "metadata": {},
   "outputs": [
    {
     "name": "stdout",
     "output_type": "stream",
     "text": [
      "(40887, 8)\n"
     ]
    },
    {
     "data": {
      "text/html": [
       "<div>\n",
       "<style scoped>\n",
       "    .dataframe tbody tr th:only-of-type {\n",
       "        vertical-align: middle;\n",
       "    }\n",
       "\n",
       "    .dataframe tbody tr th {\n",
       "        vertical-align: top;\n",
       "    }\n",
       "\n",
       "    .dataframe thead th {\n",
       "        text-align: right;\n",
       "    }\n",
       "</style>\n",
       "<table border=\"1\" class=\"dataframe\">\n",
       "  <thead>\n",
       "    <tr style=\"text-align: right;\">\n",
       "      <th></th>\n",
       "      <th>Delivery_person_Age</th>\n",
       "      <th>Weather_conditions</th>\n",
       "      <th>Road_traffic_density</th>\n",
       "      <th>Vehicle_condition</th>\n",
       "      <th>Type_of_vehicle</th>\n",
       "      <th>City</th>\n",
       "      <th>Distance</th>\n",
       "      <th>Time_taken_(min)</th>\n",
       "    </tr>\n",
       "  </thead>\n",
       "  <tbody>\n",
       "    <tr>\n",
       "      <th>0</th>\n",
       "      <td>36.0</td>\n",
       "      <td>Cloudy</td>\n",
       "      <td>High</td>\n",
       "      <td>1</td>\n",
       "      <td>motorcycle</td>\n",
       "      <td>Metropolitian</td>\n",
       "      <td>3.018911</td>\n",
       "      <td>25.0</td>\n",
       "    </tr>\n",
       "    <tr>\n",
       "      <th>1</th>\n",
       "      <td>37.0</td>\n",
       "      <td>Fog</td>\n",
       "      <td>Medium</td>\n",
       "      <td>1</td>\n",
       "      <td>scooter</td>\n",
       "      <td>Metropolitian</td>\n",
       "      <td>13.973178</td>\n",
       "      <td>40.0</td>\n",
       "    </tr>\n",
       "    <tr>\n",
       "      <th>2</th>\n",
       "      <td>25.0</td>\n",
       "      <td>Cloudy</td>\n",
       "      <td>High</td>\n",
       "      <td>1</td>\n",
       "      <td>scooter</td>\n",
       "      <td>Urban</td>\n",
       "      <td>6.058825</td>\n",
       "      <td>30.0</td>\n",
       "    </tr>\n",
       "    <tr>\n",
       "      <th>3</th>\n",
       "      <td>28.0</td>\n",
       "      <td>Sandstorms</td>\n",
       "      <td>Low</td>\n",
       "      <td>1</td>\n",
       "      <td>motorcycle</td>\n",
       "      <td>Metropolitian</td>\n",
       "      <td>19.975520</td>\n",
       "      <td>11.0</td>\n",
       "    </tr>\n",
       "    <tr>\n",
       "      <th>4</th>\n",
       "      <td>22.0</td>\n",
       "      <td>Fog</td>\n",
       "      <td>Jam</td>\n",
       "      <td>0</td>\n",
       "      <td>motorcycle</td>\n",
       "      <td>Metropolitian</td>\n",
       "      <td>12.435540</td>\n",
       "      <td>47.0</td>\n",
       "    </tr>\n",
       "  </tbody>\n",
       "</table>\n",
       "</div>"
      ],
      "text/plain": [
       "   Delivery_person_Age Weather_conditions Road_traffic_density  \\\n",
       "0                 36.0             Cloudy                 High   \n",
       "1                 37.0                Fog               Medium   \n",
       "2                 25.0             Cloudy                 High   \n",
       "3                 28.0         Sandstorms                  Low   \n",
       "4                 22.0                Fog                  Jam   \n",
       "\n",
       "   Vehicle_condition Type_of_vehicle           City   Distance  \\\n",
       "0                  1      motorcycle  Metropolitian   3.018911   \n",
       "1                  1         scooter  Metropolitian  13.973178   \n",
       "2                  1         scooter          Urban   6.058825   \n",
       "3                  1      motorcycle  Metropolitian  19.975520   \n",
       "4                  0      motorcycle  Metropolitian  12.435540   \n",
       "\n",
       "   Time_taken_(min)  \n",
       "0              25.0  \n",
       "1              40.0  \n",
       "2              30.0  \n",
       "3              11.0  \n",
       "4              47.0  "
      ]
     },
     "execution_count": 217,
     "metadata": {},
     "output_type": "execute_result"
    }
   ],
   "source": [
    "data = pd.read_csv(\"../dataset/dataset_clean.csv\")\n",
    "# Delete outlier\n",
    "data = data[data['Delivery_person_Age'] != 15 ]\n",
    "data = data[data['Vehicle_condition'] != 3 ]\n",
    "data = data[data['Type_of_vehicle'] != 'bicycle']\n",
    "data['Type_of_vehicle'].replace('electric_scooter','scooter',inplace=True)\n",
    "data = data[data['City'] != 'Semi-Urban']\n",
    "# Input feature\n",
    "data=data.drop(columns=['Index','Restaurant_longitude','Restaurant_latitude','Delivery_location_latitude','Delivery_location_longitude',\n",
    "                        'Time_order','Time_order_picked','Festival','Delivery_person_ratings','Type_of_order','Multiple_deliveries'])\n",
    "print(data.shape)\n",
    "data.head()"
   ]
  },
  {
   "cell_type": "code",
   "execution_count": 218,
   "metadata": {},
   "outputs": [
    {
     "data": {
      "text/plain": [
       "Delivery_person_Age     float64\n",
       "Weather_conditions       object\n",
       "Road_traffic_density     object\n",
       "Vehicle_condition         int64\n",
       "Type_of_vehicle          object\n",
       "City                     object\n",
       "Distance                float64\n",
       "Time_taken_(min)        float64\n",
       "dtype: object"
      ]
     },
     "execution_count": 218,
     "metadata": {},
     "output_type": "execute_result"
    }
   ],
   "source": [
    "data.dtypes"
   ]
  },
  {
   "cell_type": "markdown",
   "metadata": {},
   "source": [
    "#### Encoder object features"
   ]
  },
  {
   "cell_type": "code",
   "execution_count": 219,
   "metadata": {},
   "outputs": [
    {
     "data": {
      "text/plain": [
       "Delivery_person_Age     float64\n",
       "Weather_conditions        int32\n",
       "Road_traffic_density      int32\n",
       "Vehicle_condition         int64\n",
       "Type_of_vehicle           int32\n",
       "City                      int32\n",
       "Distance                float64\n",
       "Time_taken_(min)        float64\n",
       "dtype: object"
      ]
     },
     "execution_count": 219,
     "metadata": {},
     "output_type": "execute_result"
    }
   ],
   "source": [
    "from sklearn.preprocessing import LabelEncoder\n",
    "le = LabelEncoder()\n",
    "for col in data.columns:\n",
    "    if data[col].dtype == 'object':\n",
    "        data[col] = le.fit_transform(data[col])\n",
    "        \n",
    "data.dtypes"
   ]
  },
  {
   "cell_type": "code",
   "execution_count": 220,
   "metadata": {},
   "outputs": [
    {
     "name": "stdout",
     "output_type": "stream",
     "text": [
      "(40887, 7)\n",
      "(40887,)\n"
     ]
    }
   ],
   "source": [
    "# feature\n",
    "feature = data.drop(labels= 'Time_taken_(min)',axis = 1)\n",
    "feature\n",
    "# target\n",
    "target = data['Time_taken_(min)']\n",
    "print(feature.shape)\n",
    "print(target.shape)"
   ]
  },
  {
   "cell_type": "markdown",
   "metadata": {},
   "source": [
    "#### Split data"
   ]
  },
  {
   "cell_type": "code",
   "execution_count": 221,
   "metadata": {},
   "outputs": [
    {
     "name": "stdout",
     "output_type": "stream",
     "text": [
      "train set (32709, 7) (32709,)\n",
      "test set (8178, 7) (8178,)\n"
     ]
    }
   ],
   "source": [
    "from sklearn.model_selection import train_test_split\n",
    "X_train,X_test, y_train,y_test = train_test_split(feature,target,test_size = 0.2, random_state = 43)\n",
    "print('train set',X_train.shape,y_train.shape)\n",
    "print('test set',X_test.shape,y_test.shape)"
   ]
  },
  {
   "cell_type": "code",
   "execution_count": 222,
   "metadata": {},
   "outputs": [
    {
     "data": {
      "text/html": [
       "<div>\n",
       "<style scoped>\n",
       "    .dataframe tbody tr th:only-of-type {\n",
       "        vertical-align: middle;\n",
       "    }\n",
       "\n",
       "    .dataframe tbody tr th {\n",
       "        vertical-align: top;\n",
       "    }\n",
       "\n",
       "    .dataframe thead th {\n",
       "        text-align: right;\n",
       "    }\n",
       "</style>\n",
       "<table border=\"1\" class=\"dataframe\">\n",
       "  <thead>\n",
       "    <tr style=\"text-align: right;\">\n",
       "      <th></th>\n",
       "      <th>model</th>\n",
       "      <th>mean absolute error (MAE)</th>\n",
       "      <th>mean squared error (MSE)</th>\n",
       "      <th>r2 score (R2)</th>\n",
       "    </tr>\n",
       "  </thead>\n",
       "  <tbody>\n",
       "  </tbody>\n",
       "</table>\n",
       "</div>"
      ],
      "text/plain": [
       "Empty DataFrame\n",
       "Columns: [model, mean absolute error (MAE), mean squared error (MSE), r2 score (R2)]\n",
       "Index: []"
      ]
     },
     "execution_count": 222,
     "metadata": {},
     "output_type": "execute_result"
    }
   ],
   "source": [
    "result = pd.DataFrame(\n",
    "    columns=['model','mean absolute error (MAE)','mean squared error (MSE)','r2 score (R2)'] #,'root mean squared error (RMSE)'],\n",
    ")\n",
    "result"
   ]
  },
  {
   "attachments": {},
   "cell_type": "markdown",
   "metadata": {},
   "source": [
    "## Linear Regression"
   ]
  },
  {
   "cell_type": "code",
   "execution_count": 223,
   "metadata": {},
   "outputs": [
    {
     "name": "stdout",
     "output_type": "stream",
     "text": [
      "MAE: 6.087866197580163\n",
      "MSE: 55.812643434509525\n",
      "R2: 0.33934867084047593\n"
     ]
    },
    {
     "name": "stderr",
     "output_type": "stream",
     "text": [
      "C:\\Users\\Admin\\AppData\\Local\\Temp\\ipykernel_11080\\2683005444.py:11: FutureWarning: The frame.append method is deprecated and will be removed from pandas in a future version. Use pandas.concat instead.\n",
      "  result =result.append({'model':'LinearRegression','mean absolute error (MAE)':MAE(y_test,yHat), 'mean squared error (MSE)':MSE(y_test,yHat), 'r2 score (R2)':R2(y_test,yHat)},ignore_index=True)\n"
     ]
    }
   ],
   "source": [
    "from sklearn.linear_model import LinearRegression\n",
    "Model = LinearRegression()\n",
    "Model.fit(X_train,y_train)\n",
    "yHat = Model.predict(X_test)\n",
    "from sklearn.metrics import mean_absolute_error as MAE\n",
    "from sklearn.metrics import mean_squared_error as MSE\n",
    "from sklearn.metrics import r2_score as R2\n",
    "print('MAE:',MAE(y_test,yHat))\n",
    "print('MSE:',MSE(y_test,yHat))\n",
    "print('R2:',R2(y_test,yHat))\n",
    "result =result.append({'model':'LinearRegression','mean absolute error (MAE)':MAE(y_test,yHat), 'mean squared error (MSE)':MSE(y_test,yHat), 'r2 score (R2)':R2(y_test,yHat)},ignore_index=True)\n"
   ]
  },
  {
   "attachments": {},
   "cell_type": "markdown",
   "metadata": {},
   "source": [
    "## Lasso"
   ]
  },
  {
   "cell_type": "code",
   "execution_count": 224,
   "metadata": {},
   "outputs": [
    {
     "name": "stdout",
     "output_type": "stream",
     "text": [
      "MAE: 6.323709553905675\n",
      "MSE: 60.329975554216595\n",
      "R2: 0.2858772477812661\n"
     ]
    },
    {
     "name": "stderr",
     "output_type": "stream",
     "text": [
      "C:\\Users\\Admin\\AppData\\Local\\Temp\\ipykernel_11080\\1624821508.py:11: FutureWarning: The frame.append method is deprecated and will be removed from pandas in a future version. Use pandas.concat instead.\n",
      "  result =result.append({'model':'Lasso','mean absolute error (MAE)':MAE(y_test,yHat), 'mean squared error (MSE)':MSE(y_test,yHat), 'r2 score (R2)':R2(y_test,yHat)},ignore_index=True)\n"
     ]
    }
   ],
   "source": [
    "from sklearn.linear_model import Lasso\n",
    "Model = Lasso()\n",
    "Model.fit(X_train,y_train)\n",
    "yHat = Model.predict(X_test)\n",
    "from sklearn.metrics import mean_absolute_error as MAE\n",
    "from sklearn.metrics import mean_squared_error as MSE\n",
    "from sklearn.metrics import r2_score as R2\n",
    "print('MAE:',MAE(y_test,yHat))\n",
    "print('MSE:',MSE(y_test,yHat))\n",
    "print('R2:',R2(y_test,yHat))\n",
    "result =result.append({'model':'Lasso','mean absolute error (MAE)':MAE(y_test,yHat), 'mean squared error (MSE)':MSE(y_test,yHat), 'r2 score (R2)':R2(y_test,yHat)},ignore_index=True)"
   ]
  },
  {
   "attachments": {},
   "cell_type": "markdown",
   "metadata": {},
   "source": [
    "## XGBoost"
   ]
  },
  {
   "cell_type": "code",
   "execution_count": 225,
   "metadata": {},
   "outputs": [
    {
     "name": "stdout",
     "output_type": "stream",
     "text": [
      "MAE: 3.9432423194657624\n",
      "MSE: 24.529447355456107\n",
      "R2: 0.7096462198937763\n"
     ]
    },
    {
     "name": "stderr",
     "output_type": "stream",
     "text": [
      "C:\\Users\\Admin\\AppData\\Local\\Temp\\ipykernel_11080\\1054075036.py:11: FutureWarning: The frame.append method is deprecated and will be removed from pandas in a future version. Use pandas.concat instead.\n",
      "  result =result.append({'model':'XGBRFRegressor','mean absolute error (MAE)':MAE(y_test,yHat), 'mean squared error (MSE)':MSE(y_test,yHat), 'r2 score (R2)':R2(y_test,yHat)},ignore_index=True)\n"
     ]
    }
   ],
   "source": [
    "from xgboost import XGBRFRegressor\n",
    "Model = XGBRFRegressor()\n",
    "Model.fit(X_train,y_train)\n",
    "yHat = Model.predict(X_test)\n",
    "from sklearn.metrics import mean_absolute_error as MAE\n",
    "from sklearn.metrics import mean_squared_error as MSE\n",
    "from sklearn.metrics import r2_score as R2\n",
    "print('MAE:',MAE(y_test,yHat))\n",
    "print('MSE:',MSE(y_test,yHat))\n",
    "print('R2:',R2(y_test,yHat))\n",
    "result =result.append({'model':'XGBRFRegressor','mean absolute error (MAE)':MAE(y_test,yHat), 'mean squared error (MSE)':MSE(y_test,yHat), 'r2 score (R2)':R2(y_test,yHat)},ignore_index=True)"
   ]
  },
  {
   "attachments": {},
   "cell_type": "markdown",
   "metadata": {},
   "source": [
    "## Logistic Regression"
   ]
  },
  {
   "cell_type": "code",
   "execution_count": 226,
   "metadata": {},
   "outputs": [
    {
     "name": "stdout",
     "output_type": "stream",
     "text": [
      "MAE: 6.677060405967229\n",
      "MSE: 74.43959403277084\n",
      "R2: 0.11886243486116976\n"
     ]
    },
    {
     "name": "stderr",
     "output_type": "stream",
     "text": [
      "c:\\Users\\Admin\\AppData\\Local\\Programs\\Python\\Python310\\lib\\site-packages\\sklearn\\linear_model\\_logistic.py:814: ConvergenceWarning: lbfgs failed to converge (status=1):\n",
      "STOP: TOTAL NO. of ITERATIONS REACHED LIMIT.\n",
      "\n",
      "Increase the number of iterations (max_iter) or scale the data as shown in:\n",
      "    https://scikit-learn.org/stable/modules/preprocessing.html\n",
      "Please also refer to the documentation for alternative solver options:\n",
      "    https://scikit-learn.org/stable/modules/linear_model.html#logistic-regression\n",
      "  n_iter_i = _check_optimize_result(\n",
      "C:\\Users\\Admin\\AppData\\Local\\Temp\\ipykernel_11080\\870706290.py:11: FutureWarning: The frame.append method is deprecated and will be removed from pandas in a future version. Use pandas.concat instead.\n",
      "  result =result.append({'model':'LogisticRegression','mean absolute error (MAE)':MAE(y_test,yHat), 'mean squared error (MSE)':MSE(y_test,yHat), 'r2 score (R2)':R2(y_test,yHat)},ignore_index=True)\n"
     ]
    }
   ],
   "source": [
    "from sklearn.linear_model import LogisticRegression\n",
    "Model = LogisticRegression()\n",
    "Model.fit(X_train,y_train)\n",
    "yHat = Model.predict(X_test)\n",
    "from sklearn.metrics import mean_absolute_error as MAE\n",
    "from sklearn.metrics import mean_squared_error as MSE\n",
    "from sklearn.metrics import r2_score as R2\n",
    "print('MAE:',MAE(y_test,yHat))\n",
    "print('MSE:',MSE(y_test,yHat))\n",
    "print('R2:',R2(y_test,yHat))\n",
    "result =result.append({'model':'LogisticRegression','mean absolute error (MAE)':MAE(y_test,yHat), 'mean squared error (MSE)':MSE(y_test,yHat), 'r2 score (R2)':R2(y_test,yHat)},ignore_index=True)\n"
   ]
  },
  {
   "cell_type": "code",
   "execution_count": 227,
   "metadata": {},
   "outputs": [
    {
     "data": {
      "text/html": [
       "<div>\n",
       "<style scoped>\n",
       "    .dataframe tbody tr th:only-of-type {\n",
       "        vertical-align: middle;\n",
       "    }\n",
       "\n",
       "    .dataframe tbody tr th {\n",
       "        vertical-align: top;\n",
       "    }\n",
       "\n",
       "    .dataframe thead th {\n",
       "        text-align: right;\n",
       "    }\n",
       "</style>\n",
       "<table border=\"1\" class=\"dataframe\">\n",
       "  <thead>\n",
       "    <tr style=\"text-align: right;\">\n",
       "      <th></th>\n",
       "      <th>mean absolute error (MAE)</th>\n",
       "      <th>mean squared error (MSE)</th>\n",
       "      <th>r2 score (R2)</th>\n",
       "    </tr>\n",
       "    <tr>\n",
       "      <th>model</th>\n",
       "      <th></th>\n",
       "      <th></th>\n",
       "      <th></th>\n",
       "    </tr>\n",
       "  </thead>\n",
       "  <tbody>\n",
       "    <tr>\n",
       "      <th>LinearRegression</th>\n",
       "      <td>6.087866</td>\n",
       "      <td>55.812643</td>\n",
       "      <td>0.339349</td>\n",
       "    </tr>\n",
       "    <tr>\n",
       "      <th>Lasso</th>\n",
       "      <td>6.323710</td>\n",
       "      <td>60.329976</td>\n",
       "      <td>0.285877</td>\n",
       "    </tr>\n",
       "    <tr>\n",
       "      <th>XGBRFRegressor</th>\n",
       "      <td>3.943242</td>\n",
       "      <td>24.529447</td>\n",
       "      <td>0.709646</td>\n",
       "    </tr>\n",
       "    <tr>\n",
       "      <th>LogisticRegression</th>\n",
       "      <td>6.677060</td>\n",
       "      <td>74.439594</td>\n",
       "      <td>0.118862</td>\n",
       "    </tr>\n",
       "  </tbody>\n",
       "</table>\n",
       "</div>"
      ],
      "text/plain": [
       "                    mean absolute error (MAE)  mean squared error (MSE)  \\\n",
       "model                                                                     \n",
       "LinearRegression                     6.087866                 55.812643   \n",
       "Lasso                                6.323710                 60.329976   \n",
       "XGBRFRegressor                       3.943242                 24.529447   \n",
       "LogisticRegression                   6.677060                 74.439594   \n",
       "\n",
       "                    r2 score (R2)  \n",
       "model                              \n",
       "LinearRegression         0.339349  \n",
       "Lasso                    0.285877  \n",
       "XGBRFRegressor           0.709646  \n",
       "LogisticRegression       0.118862  "
      ]
     },
     "execution_count": 227,
     "metadata": {},
     "output_type": "execute_result"
    }
   ],
   "source": [
    "result.set_index('model',inplace = True)\n",
    "result"
   ]
  }
 ],
 "metadata": {
  "kernelspec": {
   "display_name": "Python 3.10.2 64-bit",
   "language": "python",
   "name": "python3"
  },
  "language_info": {
   "codemirror_mode": {
    "name": "ipython",
    "version": 3
   },
   "file_extension": ".py",
   "mimetype": "text/x-python",
   "name": "python",
   "nbconvert_exporter": "python",
   "pygments_lexer": "ipython3",
   "version": "3.10.5"
  },
  "orig_nbformat": 4,
  "vscode": {
   "interpreter": {
    "hash": "a42ccb73e7d9bfdf27e036f1d2b8b681e55fc0743cc5586bc2474d4a60f4b886"
   }
  }
 },
 "nbformat": 4,
 "nbformat_minor": 2
}
