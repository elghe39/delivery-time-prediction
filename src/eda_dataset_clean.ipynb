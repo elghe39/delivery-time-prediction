{
 "cells": [
  {
   "cell_type": "code",
   "execution_count": 1,
   "metadata": {
    "collapsed": true
   },
   "outputs": [],
   "source": [
    "import pandas as pd\n",
    "import numpy as np\n",
    "import matplotlib.pyplot as plt\n",
    "%matplotlib inline\n",
    "import seaborn as sns\n",
    "import missingno as msno\n",
    "from scipy import stats\n",
    "import statistics as st"
   ]
  },
  {
   "cell_type": "code",
   "execution_count": 2,
   "outputs": [],
   "source": [
    "data = pd.read_csv(\"../dataset/dataset_clean.csv\")"
   ],
   "metadata": {
    "collapsed": false
   }
  },
  {
   "cell_type": "code",
   "execution_count": 3,
   "outputs": [
    {
     "data": {
      "text/plain": "   Delivery_person_Age  Delivery_person_ratings  Restaurant_latitude  \\\n0                 36.0                      4.5            23.351058   \n1                 37.0                      4.7            12.934365   \n2                 25.0                      4.9            22.312790   \n3                 28.0                      4.5            17.433809   \n4                 22.0                      4.5            12.310972   \n5                 37.0                      4.8            19.091458   \n6                 21.0                      4.8            23.234249   \n7                 35.0                      4.2            15.303897   \n8                 34.0                      4.5            22.514688   \n9                 22.0                      5.0            26.911927   \n\n   Restaurant_longitude  Delivery_location_latitude  \\\n0             85.325731                   23.371058   \n1             77.616155                   13.024365   \n2             73.170283                   22.352790   \n3             78.386744                   17.563809   \n4             76.659264                   12.390972   \n5             72.827808                   19.101458   \n6             77.434007                   23.244249   \n7             73.914336                   15.323897   \n8             88.393294                   22.564688   \n9             75.797282                   26.931927   \n\n   Delivery_location_longitude           Time_order    Time_order_picked  \\\n0                    85.345731  2022-03-24 11:25:00  2022-03-24 11:35:00   \n1                    77.706155  2022-03-25 17:40:00  2022-03-25 17:50:00   \n2                    73.210283  2022-03-19 13:40:00  2022-03-19 13:55:00   \n3                    78.516744  2022-03-10 23:35:00  2022-03-10 23:45:00   \n4                    76.739264  2022-03-10 20:40:00  2022-03-10 20:55:00   \n5                    72.837808  2022-04-03 10:45:00  2022-04-03 10:50:00   \n6                    77.444007  2022-02-15 09:40:00  2022-02-15 09:45:00   \n7                    73.934336  2022-02-13 08:30:00  2022-02-13 08:35:00   \n8                    88.443294  2022-02-11 18:35:00  2022-02-11 18:40:00   \n9                    75.817282  2022-04-01 08:20:00  2022-04-01 08:35:00   \n\n  Weather_conditions Road_traffic_density  Vehicle_condition Type_of_order  \\\n0             Cloudy                 High                  1        Drinks   \n1                Fog               Medium                  1          Meal   \n2             Cloudy                 High                  1        Drinks   \n3         Sandstorms                  Low                  1        Drinks   \n4                Fog                  Jam                  0         Snack   \n5              Sunny                  Low                  1          Meal   \n6              Windy                  Low                  1         Snack   \n7              Windy                  Low                  0         Snack   \n8                Fog               Medium                  2        Drinks   \n9                Fog                  Low                  0        Buffet   \n\n    Type_of_vehicle  Multiple_deliveries Festival           City   Distance  \\\n0        motorcycle                  1.0       No  Metropolitian   3.018911   \n1           scooter                  1.0       No  Metropolitian  13.973178   \n2           scooter                  1.0       No          Urban   6.058825   \n3        motorcycle                  0.0       No  Metropolitian  19.975520   \n4        motorcycle                  1.0       No  Metropolitian  12.435540   \n5           scooter                  0.0       No          Urban   1.529877   \n6           scooter                  1.0       No  Metropolitian   1.510088   \n7        motorcycle                  1.0       No  Metropolitian   3.089737   \n8  electric_scooter                  1.0       No          Urban   7.568330   \n9        motorcycle                  0.0       No  Metropolitian   2.979521   \n\n   Time_taken_(min)  \n0              25.0  \n1              40.0  \n2              30.0  \n3              11.0  \n4              47.0  \n5              19.0  \n6              15.0  \n7              31.0  \n8              18.0  \n9              20.0  ",
      "text/html": "<div>\n<style scoped>\n    .dataframe tbody tr th:only-of-type {\n        vertical-align: middle;\n    }\n\n    .dataframe tbody tr th {\n        vertical-align: top;\n    }\n\n    .dataframe thead th {\n        text-align: right;\n    }\n</style>\n<table border=\"1\" class=\"dataframe\">\n  <thead>\n    <tr style=\"text-align: right;\">\n      <th></th>\n      <th>Delivery_person_Age</th>\n      <th>Delivery_person_ratings</th>\n      <th>Restaurant_latitude</th>\n      <th>Restaurant_longitude</th>\n      <th>Delivery_location_latitude</th>\n      <th>Delivery_location_longitude</th>\n      <th>Time_order</th>\n      <th>Time_order_picked</th>\n      <th>Weather_conditions</th>\n      <th>Road_traffic_density</th>\n      <th>Vehicle_condition</th>\n      <th>Type_of_order</th>\n      <th>Type_of_vehicle</th>\n      <th>Multiple_deliveries</th>\n      <th>Festival</th>\n      <th>City</th>\n      <th>Distance</th>\n      <th>Time_taken_(min)</th>\n    </tr>\n  </thead>\n  <tbody>\n    <tr>\n      <th>0</th>\n      <td>36.0</td>\n      <td>4.5</td>\n      <td>23.351058</td>\n      <td>85.325731</td>\n      <td>23.371058</td>\n      <td>85.345731</td>\n      <td>2022-03-24 11:25:00</td>\n      <td>2022-03-24 11:35:00</td>\n      <td>Cloudy</td>\n      <td>High</td>\n      <td>1</td>\n      <td>Drinks</td>\n      <td>motorcycle</td>\n      <td>1.0</td>\n      <td>No</td>\n      <td>Metropolitian</td>\n      <td>3.018911</td>\n      <td>25.0</td>\n    </tr>\n    <tr>\n      <th>1</th>\n      <td>37.0</td>\n      <td>4.7</td>\n      <td>12.934365</td>\n      <td>77.616155</td>\n      <td>13.024365</td>\n      <td>77.706155</td>\n      <td>2022-03-25 17:40:00</td>\n      <td>2022-03-25 17:50:00</td>\n      <td>Fog</td>\n      <td>Medium</td>\n      <td>1</td>\n      <td>Meal</td>\n      <td>scooter</td>\n      <td>1.0</td>\n      <td>No</td>\n      <td>Metropolitian</td>\n      <td>13.973178</td>\n      <td>40.0</td>\n    </tr>\n    <tr>\n      <th>2</th>\n      <td>25.0</td>\n      <td>4.9</td>\n      <td>22.312790</td>\n      <td>73.170283</td>\n      <td>22.352790</td>\n      <td>73.210283</td>\n      <td>2022-03-19 13:40:00</td>\n      <td>2022-03-19 13:55:00</td>\n      <td>Cloudy</td>\n      <td>High</td>\n      <td>1</td>\n      <td>Drinks</td>\n      <td>scooter</td>\n      <td>1.0</td>\n      <td>No</td>\n      <td>Urban</td>\n      <td>6.058825</td>\n      <td>30.0</td>\n    </tr>\n    <tr>\n      <th>3</th>\n      <td>28.0</td>\n      <td>4.5</td>\n      <td>17.433809</td>\n      <td>78.386744</td>\n      <td>17.563809</td>\n      <td>78.516744</td>\n      <td>2022-03-10 23:35:00</td>\n      <td>2022-03-10 23:45:00</td>\n      <td>Sandstorms</td>\n      <td>Low</td>\n      <td>1</td>\n      <td>Drinks</td>\n      <td>motorcycle</td>\n      <td>0.0</td>\n      <td>No</td>\n      <td>Metropolitian</td>\n      <td>19.975520</td>\n      <td>11.0</td>\n    </tr>\n    <tr>\n      <th>4</th>\n      <td>22.0</td>\n      <td>4.5</td>\n      <td>12.310972</td>\n      <td>76.659264</td>\n      <td>12.390972</td>\n      <td>76.739264</td>\n      <td>2022-03-10 20:40:00</td>\n      <td>2022-03-10 20:55:00</td>\n      <td>Fog</td>\n      <td>Jam</td>\n      <td>0</td>\n      <td>Snack</td>\n      <td>motorcycle</td>\n      <td>1.0</td>\n      <td>No</td>\n      <td>Metropolitian</td>\n      <td>12.435540</td>\n      <td>47.0</td>\n    </tr>\n    <tr>\n      <th>5</th>\n      <td>37.0</td>\n      <td>4.8</td>\n      <td>19.091458</td>\n      <td>72.827808</td>\n      <td>19.101458</td>\n      <td>72.837808</td>\n      <td>2022-04-03 10:45:00</td>\n      <td>2022-04-03 10:50:00</td>\n      <td>Sunny</td>\n      <td>Low</td>\n      <td>1</td>\n      <td>Meal</td>\n      <td>scooter</td>\n      <td>0.0</td>\n      <td>No</td>\n      <td>Urban</td>\n      <td>1.529877</td>\n      <td>19.0</td>\n    </tr>\n    <tr>\n      <th>6</th>\n      <td>21.0</td>\n      <td>4.8</td>\n      <td>23.234249</td>\n      <td>77.434007</td>\n      <td>23.244249</td>\n      <td>77.444007</td>\n      <td>2022-02-15 09:40:00</td>\n      <td>2022-02-15 09:45:00</td>\n      <td>Windy</td>\n      <td>Low</td>\n      <td>1</td>\n      <td>Snack</td>\n      <td>scooter</td>\n      <td>1.0</td>\n      <td>No</td>\n      <td>Metropolitian</td>\n      <td>1.510088</td>\n      <td>15.0</td>\n    </tr>\n    <tr>\n      <th>7</th>\n      <td>35.0</td>\n      <td>4.2</td>\n      <td>15.303897</td>\n      <td>73.914336</td>\n      <td>15.323897</td>\n      <td>73.934336</td>\n      <td>2022-02-13 08:30:00</td>\n      <td>2022-02-13 08:35:00</td>\n      <td>Windy</td>\n      <td>Low</td>\n      <td>0</td>\n      <td>Snack</td>\n      <td>motorcycle</td>\n      <td>1.0</td>\n      <td>No</td>\n      <td>Metropolitian</td>\n      <td>3.089737</td>\n      <td>31.0</td>\n    </tr>\n    <tr>\n      <th>8</th>\n      <td>34.0</td>\n      <td>4.5</td>\n      <td>22.514688</td>\n      <td>88.393294</td>\n      <td>22.564688</td>\n      <td>88.443294</td>\n      <td>2022-02-11 18:35:00</td>\n      <td>2022-02-11 18:40:00</td>\n      <td>Fog</td>\n      <td>Medium</td>\n      <td>2</td>\n      <td>Drinks</td>\n      <td>electric_scooter</td>\n      <td>1.0</td>\n      <td>No</td>\n      <td>Urban</td>\n      <td>7.568330</td>\n      <td>18.0</td>\n    </tr>\n    <tr>\n      <th>9</th>\n      <td>22.0</td>\n      <td>5.0</td>\n      <td>26.911927</td>\n      <td>75.797282</td>\n      <td>26.931927</td>\n      <td>75.817282</td>\n      <td>2022-04-01 08:20:00</td>\n      <td>2022-04-01 08:35:00</td>\n      <td>Fog</td>\n      <td>Low</td>\n      <td>0</td>\n      <td>Buffet</td>\n      <td>motorcycle</td>\n      <td>0.0</td>\n      <td>No</td>\n      <td>Metropolitian</td>\n      <td>2.979521</td>\n      <td>20.0</td>\n    </tr>\n  </tbody>\n</table>\n</div>"
     },
     "execution_count": 3,
     "metadata": {},
     "output_type": "execute_result"
    }
   ],
   "source": [
    "data=data.drop(columns='Index')\n",
    "data.head(10)"
   ],
   "metadata": {
    "collapsed": false
   }
  },
  {
   "cell_type": "code",
   "execution_count": 4,
   "outputs": [
    {
     "name": "stdout",
     "output_type": "stream",
     "text": [
      "Delivery_person_Age : [36. 37. 25. 28. 22. 21. 35. 34. 39. 33. 38. 27. 26. 31. 30. 32. 29. 24.\n",
      " 23. 20. 15. 50.]\n",
      "Delivery_person_ratings : [4.5 4.7 4.9 4.8 4.2 5.  4.6 4.4 3.7 3.8 4.  4.3 4.1 3.9 3.6 3.5 2.9 1.\n",
      " 3.3 2.6 3.2 6.  2.5 3.4 3.1 2.7 2.8 3. ]\n",
      "Restaurant_latitude : [ 23.351058  12.934365  22.31279   17.433809  12.310972  19.091458\n",
      "  23.234249  15.303897  22.514688  26.911927  13.064181  22.753659\n",
      "   0.        19.874449  22.308096  12.284747  13.049645  19.131141\n",
      "  22.761226  26.892312  27.160934  11.006686  17.431477  13.045479\n",
      "  26.47775   17.422819  26.492106  21.173343  22.727021  22.725748\n",
      "  23.357804  23.353783  18.530963  22.552996  12.914264  21.170798\n",
      "  12.972532  15.496162  11.024839  22.311358  22.311603  26.473698\n",
      "  26.90519   17.45971   19.055831  22.75004   26.471617  11.022169\n",
      "  23.371292  12.323194  22.751857  19.003517  17.430448  12.352058\n",
      "   9.985497  19.221315  13.091809  22.539129  13.086438  18.994049\n",
      "  12.334022  13.026286  22.307898  10.96185    9.982834  21.157729\n",
      "  22.761593  26.463504  26.913483  12.299524  12.972793  23.39925\n",
      "  12.98041   21.17106   22.745536  12.970324  26.905287  15.5696\n",
      "  15.498603 -22.310329  18.536562  22.32      21.160437  12.975996\n",
      "  26.849596  25.443994  22.53796   17.428294  13.026279  11.016298\n",
      "  19.103249  18.543626  11.025083  19.207222  17.424114  22.695207\n",
      " -22.761593  26.90294   26.913726 -25.451517  11.000762  26.902908\n",
      "  18.554382  19.176269  17.440827  22.753839  11.003669  23.359194\n",
      "  21.170096  12.337978  27.159795  13.029198  25.453436  23.374878\n",
      "  17.451976   9.979363  12.913041  21.160522  18.516216  30.893244\n",
      "  22.514585  12.981615  12.326356  21.183434  19.875908  12.935662\n",
      "  12.304569  30.328174  26.891191  21.149834  17.429585  13.02978\n",
      "  17.411028  12.323978  23.359033  23.333017  22.732225  26.88842\n",
      "  17.438263  23.184992  19.12663   22.538999  19.121999  26.474133\n",
      "  12.337928  21.173493  12.906229  30.895817  12.978453  21.186608\n",
      "  12.972161  13.022394  22.533662  18.533811  18.569156  23.355164\n",
      "  19.254567  19.879631  13.058616  22.310329  23.214459  21.185047\n",
      "   9.957144  17.41233   12.3085    26.914142  11.022298  30.893081\n",
      "  23.416792  19.065838  18.51421   13.081878  17.458998  30.366322\n",
      "  18.536718  11.021278  18.592718  12.311072  11.003008  30.914057\n",
      "  18.53408   12.316967  26.472001  12.934179  22.310237  27.163303\n",
      "  18.56245    9.959778  23.359407  21.157735  17.483216  13.054347\n",
      "  26.956431  30.890184  22.744648  26.482419  18.563934  22.728163\n",
      "  22.722634  13.027018  19.22384   19.875337  15.49395   18.636215\n",
      "  12.979096  30.893384  25.459775  11.02091   21.186438  23.230791\n",
      "  21.186884  26.902328  23.351489  12.325461   9.966783  12.970221\n",
      "  27.158822  30.327968  19.1813    30.893234  26.766536  21.15276\n",
      "  17.450851  11.026117  27.201725  11.008638  17.410371  15.516833\n",
      "  23.232357  17.426228 -22.725748  18.55144   22.310526  26.846156\n",
      "  30.362686  30.885814  23.374989  21.175975  18.546258  12.323994\n",
      "  19.875522  22.725835  19.178321  22.651847  12.975377  21.149669\n",
      "  15.506205  10.003064  19.120083  21.149569  12.939496  15.544419\n",
      "  26.913987  23.354422  22.311844  19.1093    17.455894  12.321214\n",
      "  15.556561  26.910262  18.546947  18.927584  10.994136  23.266261\n",
      "  26.921411  13.044694  30.346994  13.005801  30.340722  30.335259\n",
      "  25.457687  26.483672  22.751234 -21.183434   9.960846  11.001753\n",
      "  12.933298  12.933284  25.449659  11.010375  12.979166  22.553227\n",
      "  22.514119  22.760072  19.876106  11.001852  22.745049  18.593481\n",
      "  19.878028  23.232537  25.450329  30.899584  18.994237  15.546594\n",
      "  23.264015  25.45235   13.066762  15.574828  11.022477  10.020683\n",
      "  19.875016  30.372202 -19.875337  18.520016  22.74806   21.175104\n",
      "  22.552672  22.569358  26.482581  12.297954  10.027014  27.165108\n",
      "  11.003681  27.161694 -22.722634  26.471529  17.431668  25.450377\n",
      "  26.911378  26.483042  15.157944  23.211529 -18.569156 -23.234631\n",
      "  26.474986  27.157772  15.561295  10.000706  19.874733  22.547186\n",
      "  12.323225  19.876219  26.47      18.539299  15.585658  25.450317\n",
      " -25.443994  26.49095   25.457116  15.51315   23.369746  30.332735\n",
      "  12.986047  30.899992  30.88722   26.481547  26.469003  27.16185\n",
      "  12.949934   9.970717  30.361281  22.526461  30.885915  19.866969\n",
      "  23.235123  25.454648 -26.472001  10.006881 -13.022394 -22.515082\n",
      "  23.218998  30.89286   -9.979186 -30.359722 -15.5696    23.234631\n",
      "  23.233219  30.895204  19.876428   9.979186 -18.546258  10.028047\n",
      "  22.577821  10.027364 -18.592718  30.892978  25.451517 -19.879631\n",
      "   9.985697  22.527893 -27.159795  15.576683  27.161661  22.515082\n",
      " -11.003681  26.479108  -9.970717  30.873988  22.551084 -30.319528\n",
      "  30.905562  25.451646  25.449872  19.880256 -13.081878 -21.149569\n",
      "  19.888716 -10.035573   9.988483  23.214294  30.342509  25.454697\n",
      " -19.874733 -17.428294  19.876994 -19.876106 -19.878028  22.5491\n",
      "  15.56155  -23.374989 -26.911927  27.160832  19.874103 -30.346994\n",
      "  27.195928 -15.51315  -30.902872  10.035573 -12.98041   22.569367\n",
      " -22.538731 -22.53796  -21.186608  30.359722  22.538731 -13.091809\n",
      "  30.319528 -12.970324 -26.471529 -17.424114 -15.49395  -15.157944\n",
      " -27.160832  30.902872 -26.463504   9.991703 -22.552996 -22.538999\n",
      " -26.49095  -26.914142 -22.533662 -19.880256 -10.96185  -26.891191\n",
      " -23.416792 -19.888716 -26.910262 -13.086438 -23.351058 -22.5491\n",
      " -25.454697 -30.899584 -22.32     -19.055831 -19.874449 -26.474133\n",
      " -12.3085   -26.47775  -27.163303 -26.481547 -30.372202 -17.455894\n",
      " -22.526461 -22.569358 -17.430448 -11.001852 -13.02978   -9.982834\n",
      " -10.027014 -25.45235  -21.173343 -17.451976 -12.310972 -30.885814\n",
      " -22.539129 -19.875908 -30.905562 -22.514119 -21.15276  -10.003064\n",
      " -22.553227 -19.1093   -12.316967 -17.450851 -30.885915 -15.498603\n",
      " -22.552672 -26.479108 -21.149834 -21.175104 -11.022477 -23.371292\n",
      " -15.546594 -19.875522 -19.875016  -9.988483 -22.569367 -12.975377\n",
      " -27.161661 -23.234249 -22.310526 -30.328174 -18.55144  -23.235123\n",
      " -19.207222 -26.474986 -15.561295 -30.327968 -19.876994 -27.165108\n",
      " -13.066762 -25.457687 -12.933298 -19.103249 -30.361281 -22.651847\n",
      " -26.913726 -26.905287 -17.45971  -19.003517 -26.90294  -25.453436\n",
      " -23.39925  -22.577821 -22.751234 -30.873988 -12.975996 -22.74806\n",
      " -25.449872 -30.366322 -23.214459 -19.065838 -26.473698 -19.221315\n",
      " -30.895817 -22.514585 -23.232537  -9.960846 -22.551084 -26.913987\n",
      " -18.53408  -19.876428 -22.547186 -12.972793 -13.044694 -26.766536\n",
      " -19.091458 -17.429585 -21.157735  -9.966783  -9.959778 -26.483042\n",
      " -21.170096 -26.47     -10.028047 -18.563934 -15.496162 -21.170798\n",
      " -18.51421  -12.326356 -22.760072 -26.482581 -13.049645 -22.308096\n",
      " -27.201725 -27.158822 -12.913041 -15.303897 -10.020683 -23.232357\n",
      " -15.576683 -26.956431 -12.304569 -17.483216 -30.893244 -23.184992\n",
      " -30.362686 -15.56155  -22.307898 -25.449659 -27.16185  -12.949934\n",
      " -12.352058 -17.426228 -23.264015 -30.892978 -11.022169 -15.516833\n",
      " -25.450317 -25.450377 -23.230791 -19.866969 -10.994136 -21.173493\n",
      " -23.211529 -15.506205 -12.939496 -12.935662]\n",
      "Restaurant_longitude : [ 85.325731  77.616155  73.170283  78.386744  76.659264  72.827808\n",
      "  77.434007  73.914336  88.393294  75.797282  80.236442  75.903365\n",
      "   0.        75.360232  73.167753  76.625861  80.242268  72.813074\n",
      "  75.887522  75.806896  78.044095  76.951736  78.40035   80.23311\n",
      "  80.351569  78.449578  80.327797  72.792731  75.884167  75.898497\n",
      "  85.325146  85.326967  73.828972  88.35231   77.6784    72.790489\n",
      "  77.608179  73.825364  77.007003  73.164798  73.165012  80.352677\n",
      "  75.810753  78.368855  72.833984  75.902847  80.313564  76.999594\n",
      "  85.327872  76.630583  75.866699  72.82765   78.418213  76.60665\n",
      "  76.276999  72.862381  80.219104  88.365507  80.220672  72.825203\n",
      "  76.618203  80.275235  73.167788  76.971082  76.283268  72.768726\n",
      "  75.886362  80.372929  75.803139  76.64262   80.249982  85.390464\n",
      "  77.640489  72.789292  75.893106  77.645748  75.794592  73.742294\n",
      "  73.826911  73.169083  73.896485  73.17      72.774209  80.221898\n",
      "  75.800512  81.860187  88.349843  78.404423  80.174568  76.972076\n",
      "  72.846749  73.905101  77.015393  72.972281  78.347554  75.866059\n",
      "  75.793007  75.75282   81.832616  76.981876  75.792934  73.798206\n",
      "  72.836721  78.393391  75.897429  76.976494  85.325447  72.789122\n",
      "  76.616792  78.04299   77.570997  81.833167  85.335739  78.385883\n",
      "  76.285001  77.683237  72.771477  73.842527  75.821817  88.39331\n",
      "  80.231598  76.619103  72.814492  75.358888  77.61413   76.643622\n",
      "  78.049117  75.802083  72.778666  78.392621  80.208812  78.329645\n",
      "  76.627961  85.325347  85.3172    75.874765  75.800689  78.397865\n",
      "  77.417227  72.829976  88.322337  72.908493  80.3481    76.617889\n",
      "  72.801953  77.596791  75.813112  77.643685  72.794136  77.596014\n",
      "  80.242439  88.366217  73.899315  73.774723  85.324097  72.848923\n",
      "  75.323403  80.264151  77.434976  72.80859   76.296783  78.449654\n",
      "  76.665808  75.805704  76.998349  75.821495  85.316842  72.832658\n",
      "  73.838429  80.248519  78.500366  78.070453  73.830327  76.995017\n",
      "  73.773572  76.654878  76.97544   75.83982   73.89852   76.603067\n",
      "  80.354002  77.615797  73.158921  78.057044  73.916619  76.296106\n",
      "  85.325055  72.768778  78.552111  80.257221  75.776649  75.829615\n",
      "  75.894377  80.320939  73.915367  75.884212  75.886959  80.254791\n",
      "  72.841347  75.316722  73.827423  73.751081  77.640625  75.821202\n",
      "  81.834841  76.940432  72.794115  77.43702   72.793616  75.794257\n",
      "  85.324253  76.632278  76.242981  77.645396  78.045359  78.046106\n",
      "  72.836191  75.82172   75.837333  72.778059  78.379347  76.944652\n",
      "  78.007553  76.984311  78.437225  73.768172  77.429989  78.407495\n",
      "  73.804855  73.170937  75.8023    78.06889   75.786976  85.335486\n",
      "  72.795503  73.904337  76.626167  75.367127  75.887648  72.834715\n",
      "  75.881991  77.696664  72.772629  73.766668  76.307589  72.907385\n",
      "  72.772697  77.625999  73.755736  75.752891  85.3329    73.165081\n",
      "  72.825451  78.375467  76.621094  73.763633  75.783013  73.900626\n",
      "  72.832585  76.963303  77.379605  75.793604  80.26147   78.062543\n",
      "  80.250744  78.060221  78.053162  81.835585  80.320708  75.88949\n",
      " -72.814492  76.293936  76.986241  77.614293  77.615428  81.839744\n",
      "  76.95295   77.640709  88.353273  88.362504  75.892574  75.340775\n",
      "  76.976268  75.892471  73.785901  75.317475  77.429845  81.834279\n",
      "  75.809346  72.825553  73.760431  77.408236  81.841889  80.251865\n",
      "  73.766883  76.995667  76.310631  75.322405  78.077151  73.830547\n",
      "  75.8934    72.804342  88.352885  88.433452  80.315628  76.665169\n",
      "  76.308053  78.015053  76.975525  78.034714  80.313458  78.408321\n",
      "  81.834236  75.789034  80.317833  73.950889  77.419399  77.401663\n",
      "  80.342796  78.04725   73.749478  76.349516  75.353942  88.35068\n",
      "  76.630028  75.346017  80.35      73.897902  73.743606  81.831681\n",
      "  80.318656  81.859682  73.78346   85.33982   78.054222  80.218114\n",
      "  75.831338  75.804893  80.299775  80.316344  78.040165  77.699386\n",
      "  76.285447  78.068022  88.364453  75.788259  75.318894  77.398886\n",
      "  81.834502  76.345397  88.36783   77.373573  75.822199  76.317361\n",
      "  78.067079  77.433571  75.822103  75.364792 -73.904337  76.310019\n",
      "  88.400581  76.308258 -73.773572  75.821847  76.281128  88.368628\n",
      " -78.04299   73.75575   78.011544 -76.975525  80.315042  75.842739\n",
      "  88.354127  78.040267  75.832841  81.832796  81.836167  75.323503\n",
      "  75.321461  76.336958  76.295211  77.435361  78.061187  81.834492\n",
      " -78.404423  75.372353  88.400467  73.749092  78.011608  75.368419\n",
      " -78.062543  77.998092  75.826808 -77.640489  88.433187  88.364878\n",
      " -78.347554 -73.827423  76.293136 -80.318656 -81.860187 -88.366217\n",
      " -76.971082 -85.316842 -75.783013 -85.325731 -76.665808 -80.351569\n",
      " -78.077151 -78.375467 -76.976268 -80.208812 -81.841889 -72.792731\n",
      " -78.385883 -75.832841 -77.645748 -88.352885 -72.804342 -76.995667\n",
      " -77.696664 -78.011544 -75.367127 -73.804855 -88.349843 -80.251865\n",
      " -77.614293 -75.881991 -75.794592 -72.846749 -78.070453 -72.832658\n",
      " -76.293936 -80.26147  -75.837333 -78.392621 -77.434007 -72.789122\n",
      " -73.838429 -76.619103 -80.242268 -78.045359 -77.683237 -76.643622\n",
      " -85.335486 -78.06889  -78.379347 -76.60665  -73.742294 -78.407495\n",
      " -77.408236 -76.999594 -81.834236 -72.801953 -88.322337 -77.61413 ]\n",
      "Delivery_location_latitude : [23.371058 13.024365 22.35279  ... 22.534585 22.656461 19.949631]\n",
      "Delivery_location_longitude : [85.345731 77.706155 73.210283 ... 88.41331  88.494453 75.393403]\n",
      "Time_order : ['2022-03-24 11:25:00' '2022-03-25 17:40:00' '2022-03-19 13:40:00' ...\n",
      " '2022-03-25 23:05:00' '2022-03-13 13:40:00' '2022-03-07 12:30:00']\n",
      "Time_order_picked : ['2022-03-24 11:35:00' '2022-03-25 17:50:00' '2022-03-19 13:55:00' ...\n",
      " '2022-03-11 13:55:00' '2022-03-03 12:40:00' '2022-03-07 12:40:00']\n",
      "Weather_conditions : ['Cloudy' 'Fog' 'Sandstorms' 'Sunny' 'Windy' 'Stormy']\n",
      "Road_traffic_density : ['High' 'Medium' 'Low' 'Jam']\n",
      "Vehicle_condition : [1 0 2 3]\n",
      "Type_of_order : ['Drinks' 'Meal' 'Snack' 'Buffet']\n",
      "Type_of_vehicle : ['motorcycle' 'scooter' 'electric_scooter' 'bicycle']\n",
      "Multiple_deliveries : [1. 0. 2. 3.]\n",
      "Festival : ['No' 'Yes']\n",
      "City : ['Metropolitian' 'Urban' 'Semi-Urban']\n",
      "Distance : [3.01891148e+00 1.39731776e+01 6.05882517e+00 ... 5.89600624e+03\n",
      " 2.87872478e+03 1.73440432e+04]\n",
      "Time_taken_(min) : [25. 40. 30. 11. 47. 19. 15. 31. 18. 20. 29. 32. 14. 34. 37. 33. 38. 12.\n",
      " 21. 24. 26. 28. 17. 23. 22. 27. 16. 41. 50. 13. 39. 35. 36. 10. 46. 48.\n",
      " 43. 42. 49. 45. 44. 54. 52. 53. 51.]\n"
     ]
    }
   ],
   "source": [
    "#Checking for wrong entries like symbols -,?,#,*,etc.\n",
    "for col in data.columns:\n",
    "    print('{} : {}'.format(col,data[col].unique()))"
   ],
   "metadata": {
    "collapsed": false
   }
  },
  {
   "cell_type": "code",
   "execution_count": 5,
   "outputs": [
    {
     "data": {
      "text/plain": "Index(['Delivery_person_Age', 'Delivery_person_ratings', 'Restaurant_latitude',\n       'Restaurant_longitude', 'Delivery_location_latitude',\n       'Delivery_location_longitude', 'Vehicle_condition',\n       'Multiple_deliveries', 'Distance', 'Time_taken_(min)'],\n      dtype='object')"
     },
     "execution_count": 5,
     "metadata": {},
     "output_type": "execute_result"
    }
   ],
   "source": [
    "# Examine numerical features in the dataset\n",
    "numeric_features = data.select_dtypes(include=[np.number])\n",
    "numeric_features.columns"
   ],
   "metadata": {
    "collapsed": false
   }
  },
  {
   "cell_type": "code",
   "execution_count": 6,
   "outputs": [
    {
     "data": {
      "text/plain": "Index(['Time_order', 'Time_order_picked', 'Weather_conditions',\n       'Road_traffic_density', 'Type_of_order', 'Type_of_vehicle', 'Festival',\n       'City'],\n      dtype='object')"
     },
     "execution_count": 6,
     "metadata": {},
     "output_type": "execute_result"
    }
   ],
   "source": [
    "# Examine categorical features in the dataset\n",
    "categorical_features = data.select_dtypes(include=[object])\n",
    "categorical_features.columns"
   ],
   "metadata": {
    "collapsed": false
   }
  },
  {
   "cell_type": "code",
   "execution_count": 7,
   "outputs": [
    {
     "name": "stderr",
     "output_type": "stream",
     "text": [
      "/usr/local/lib/python3.10/dist-packages/sweetviz/dataframe_report.py:74: FutureWarning: iteritems is deprecated and will be removed in a future version. Use .items instead.\n",
      "  all_source_names = [cur_name for cur_name, cur_series in source_df.iteritems()]\n",
      "/usr/local/lib/python3.10/dist-packages/sweetviz/dataframe_report.py:109: FutureWarning: iteritems is deprecated and will be removed in a future version. Use .items instead.\n",
      "  filtered_series_names_in_source = [cur_name for cur_name, cur_series in source_df.iteritems()\n"
     ]
    },
    {
     "data": {
      "text/plain": "                                             |          | [  0%]   00:00 -> (? left)",
      "application/vnd.jupyter.widget-view+json": {
       "version_major": 2,
       "version_minor": 0,
       "model_id": "d05b7526307145d6bcdb05468a57c113"
      }
     },
     "metadata": {},
     "output_type": "display_data"
    },
    {
     "name": "stderr",
     "output_type": "stream",
     "text": [
      "/usr/local/lib/python3.10/dist-packages/sweetviz/series_analyzer_numeric.py:25: FutureWarning: The 'mad' method is deprecated and will be removed in a future version. To compute the same result, you may do `(df - df.mean()).abs().mean()`.\n",
      "  stats[\"mad\"] = series.mad()\n",
      "/usr/local/lib/python3.10/dist-packages/sweetviz/series_analyzer_numeric.py:25: FutureWarning: The 'mad' method is deprecated and will be removed in a future version. To compute the same result, you may do `(df - df.mean()).abs().mean()`.\n",
      "  stats[\"mad\"] = series.mad()\n",
      "/usr/local/lib/python3.10/dist-packages/sweetviz/series_analyzer_numeric.py:25: FutureWarning: The 'mad' method is deprecated and will be removed in a future version. To compute the same result, you may do `(df - df.mean()).abs().mean()`.\n",
      "  stats[\"mad\"] = series.mad()\n",
      "/usr/local/lib/python3.10/dist-packages/sweetviz/series_analyzer_numeric.py:25: FutureWarning: The 'mad' method is deprecated and will be removed in a future version. To compute the same result, you may do `(df - df.mean()).abs().mean()`.\n",
      "  stats[\"mad\"] = series.mad()\n",
      "/usr/local/lib/python3.10/dist-packages/sweetviz/series_analyzer_numeric.py:25: FutureWarning: The 'mad' method is deprecated and will be removed in a future version. To compute the same result, you may do `(df - df.mean()).abs().mean()`.\n",
      "  stats[\"mad\"] = series.mad()\n",
      "/usr/local/lib/python3.10/dist-packages/sweetviz/series_analyzer_numeric.py:25: FutureWarning: The 'mad' method is deprecated and will be removed in a future version. To compute the same result, you may do `(df - df.mean()).abs().mean()`.\n",
      "  stats[\"mad\"] = series.mad()\n",
      "/usr/local/lib/python3.10/dist-packages/sweetviz/series_analyzer_text.py:19: FutureWarning: iteritems is deprecated and will be removed in a future version. Use .items instead.\n",
      "  for item in to_process.source_counts[\"value_counts_without_nan\"].iteritems():\n",
      "/usr/local/lib/python3.10/dist-packages/sweetviz/series_analyzer_text.py:19: FutureWarning: iteritems is deprecated and will be removed in a future version. Use .items instead.\n",
      "  for item in to_process.source_counts[\"value_counts_without_nan\"].iteritems():\n",
      "/usr/local/lib/python3.10/dist-packages/sweetviz/series_analyzer_cat.py:28: FutureWarning: iteritems is deprecated and will be removed in a future version. Use .items instead.\n",
      "  for item in category_counts.iteritems():\n",
      "/usr/local/lib/python3.10/dist-packages/sweetviz/series_analyzer_cat.py:28: FutureWarning: iteritems is deprecated and will be removed in a future version. Use .items instead.\n",
      "  for item in category_counts.iteritems():\n",
      "/usr/local/lib/python3.10/dist-packages/sweetviz/series_analyzer_cat.py:28: FutureWarning: iteritems is deprecated and will be removed in a future version. Use .items instead.\n",
      "  for item in category_counts.iteritems():\n",
      "/usr/local/lib/python3.10/dist-packages/sweetviz/series_analyzer_cat.py:28: FutureWarning: iteritems is deprecated and will be removed in a future version. Use .items instead.\n",
      "  for item in category_counts.iteritems():\n",
      "/usr/local/lib/python3.10/dist-packages/sweetviz/series_analyzer_cat.py:28: FutureWarning: iteritems is deprecated and will be removed in a future version. Use .items instead.\n",
      "  for item in category_counts.iteritems():\n",
      "/usr/local/lib/python3.10/dist-packages/sweetviz/series_analyzer_cat.py:28: FutureWarning: iteritems is deprecated and will be removed in a future version. Use .items instead.\n",
      "  for item in category_counts.iteritems():\n",
      "/usr/local/lib/python3.10/dist-packages/sweetviz/series_analyzer_cat.py:28: FutureWarning: iteritems is deprecated and will be removed in a future version. Use .items instead.\n",
      "  for item in category_counts.iteritems():\n",
      "/usr/local/lib/python3.10/dist-packages/sweetviz/series_analyzer_cat.py:28: FutureWarning: iteritems is deprecated and will be removed in a future version. Use .items instead.\n",
      "  for item in category_counts.iteritems():\n",
      "/usr/local/lib/python3.10/dist-packages/sweetviz/series_analyzer_numeric.py:25: FutureWarning: The 'mad' method is deprecated and will be removed in a future version. To compute the same result, you may do `(df - df.mean()).abs().mean()`.\n",
      "  stats[\"mad\"] = series.mad()\n",
      "/usr/local/lib/python3.10/dist-packages/sweetviz/series_analyzer_numeric.py:25: FutureWarning: The 'mad' method is deprecated and will be removed in a future version. To compute the same result, you may do `(df - df.mean()).abs().mean()`.\n",
      "  stats[\"mad\"] = series.mad()\n"
     ]
    },
    {
     "name": "stdout",
     "output_type": "stream",
     "text": [
      "Report analyze_dataset_clean.html was generated! NOTEBOOK/COLAB USERS: the web browser MAY not pop up, regardless, the report IS saved in your notebook/colab files.\n"
     ]
    }
   ],
   "source": [
    "import sweetviz as sv\n",
    "analyze_report = sv.analyze(data)\n",
    "analyze_report.show_html('analyze_dataset_clean.html', open_browser=True)"
   ],
   "metadata": {
    "collapsed": false
   }
  },
  {
   "cell_type": "markdown",
   "source": [
    "# Descriptive statistics (Thống kê mô tả)"
   ],
   "metadata": {
    "collapsed": false
   }
  },
  {
   "cell_type": "markdown",
   "source": [
    "Central tendencies (Hướng trung tâm):"
   ],
   "metadata": {
    "collapsed": false
   }
  },
  {
   "cell_type": "code",
   "execution_count": 8,
   "outputs": [
    {
     "data": {
      "text/plain": "       Delivery_person_Age  Delivery_person_ratings  Restaurant_latitude  \\\ncount         44999.000000             44999.000000         44999.000000   \nmean             29.465944                 4.641505            17.113324   \nstd               5.761620                 0.332706             7.987761   \nmin              15.000000                 1.000000           -30.905562   \n25%              25.000000                 4.500000            12.933284   \n50%              29.000000                 4.700000            18.551440   \n75%              34.000000                 4.900000            22.728163   \nmax              50.000000                 6.000000            30.914057   \n\n       Restaurant_longitude  Delivery_location_latitude  \\\ncount          44999.000000                44999.000000   \nmean              70.511481                   17.465041   \nstd               21.974130                    7.340339   \nmin              -88.366217                    0.010000   \n25%               73.170283                   12.988453   \n50%               75.898497                   18.633934   \n75%               78.045359                   22.785207   \nmax               88.433452                   31.054057   \n\n       Delivery_location_longitude  Vehicle_condition  Multiple_deliveries  \\\ncount                 44999.000000       44999.000000         44999.000000   \nmean                     70.828841           1.004911             0.749928   \nstd                      21.142918           0.820830             0.567286   \nmin                       0.010000           0.000000             0.000000   \n25%                      73.280000           0.000000             0.000000   \n50%                      76.002574           1.000000             1.000000   \n75%                      78.107044           2.000000             1.000000   \nmax                      88.563452           3.000000             3.000000   \n\n           Distance  Time_taken_(min)  \ncount  44999.000000      44999.000000  \nmean      63.238845         26.295807  \nstd      790.766321          9.379033  \nmin        1.465067         10.000000  \n25%        4.663456         19.000000  \n50%        9.220866         26.000000  \n75%       13.762097         32.000000  \nmax    19692.674606         54.000000  ",
      "text/html": "<div>\n<style scoped>\n    .dataframe tbody tr th:only-of-type {\n        vertical-align: middle;\n    }\n\n    .dataframe tbody tr th {\n        vertical-align: top;\n    }\n\n    .dataframe thead th {\n        text-align: right;\n    }\n</style>\n<table border=\"1\" class=\"dataframe\">\n  <thead>\n    <tr style=\"text-align: right;\">\n      <th></th>\n      <th>Delivery_person_Age</th>\n      <th>Delivery_person_ratings</th>\n      <th>Restaurant_latitude</th>\n      <th>Restaurant_longitude</th>\n      <th>Delivery_location_latitude</th>\n      <th>Delivery_location_longitude</th>\n      <th>Vehicle_condition</th>\n      <th>Multiple_deliveries</th>\n      <th>Distance</th>\n      <th>Time_taken_(min)</th>\n    </tr>\n  </thead>\n  <tbody>\n    <tr>\n      <th>count</th>\n      <td>44999.000000</td>\n      <td>44999.000000</td>\n      <td>44999.000000</td>\n      <td>44999.000000</td>\n      <td>44999.000000</td>\n      <td>44999.000000</td>\n      <td>44999.000000</td>\n      <td>44999.000000</td>\n      <td>44999.000000</td>\n      <td>44999.000000</td>\n    </tr>\n    <tr>\n      <th>mean</th>\n      <td>29.465944</td>\n      <td>4.641505</td>\n      <td>17.113324</td>\n      <td>70.511481</td>\n      <td>17.465041</td>\n      <td>70.828841</td>\n      <td>1.004911</td>\n      <td>0.749928</td>\n      <td>63.238845</td>\n      <td>26.295807</td>\n    </tr>\n    <tr>\n      <th>std</th>\n      <td>5.761620</td>\n      <td>0.332706</td>\n      <td>7.987761</td>\n      <td>21.974130</td>\n      <td>7.340339</td>\n      <td>21.142918</td>\n      <td>0.820830</td>\n      <td>0.567286</td>\n      <td>790.766321</td>\n      <td>9.379033</td>\n    </tr>\n    <tr>\n      <th>min</th>\n      <td>15.000000</td>\n      <td>1.000000</td>\n      <td>-30.905562</td>\n      <td>-88.366217</td>\n      <td>0.010000</td>\n      <td>0.010000</td>\n      <td>0.000000</td>\n      <td>0.000000</td>\n      <td>1.465067</td>\n      <td>10.000000</td>\n    </tr>\n    <tr>\n      <th>25%</th>\n      <td>25.000000</td>\n      <td>4.500000</td>\n      <td>12.933284</td>\n      <td>73.170283</td>\n      <td>12.988453</td>\n      <td>73.280000</td>\n      <td>0.000000</td>\n      <td>0.000000</td>\n      <td>4.663456</td>\n      <td>19.000000</td>\n    </tr>\n    <tr>\n      <th>50%</th>\n      <td>29.000000</td>\n      <td>4.700000</td>\n      <td>18.551440</td>\n      <td>75.898497</td>\n      <td>18.633934</td>\n      <td>76.002574</td>\n      <td>1.000000</td>\n      <td>1.000000</td>\n      <td>9.220866</td>\n      <td>26.000000</td>\n    </tr>\n    <tr>\n      <th>75%</th>\n      <td>34.000000</td>\n      <td>4.900000</td>\n      <td>22.728163</td>\n      <td>78.045359</td>\n      <td>22.785207</td>\n      <td>78.107044</td>\n      <td>2.000000</td>\n      <td>1.000000</td>\n      <td>13.762097</td>\n      <td>32.000000</td>\n    </tr>\n    <tr>\n      <th>max</th>\n      <td>50.000000</td>\n      <td>6.000000</td>\n      <td>30.914057</td>\n      <td>88.433452</td>\n      <td>31.054057</td>\n      <td>88.563452</td>\n      <td>3.000000</td>\n      <td>3.000000</td>\n      <td>19692.674606</td>\n      <td>54.000000</td>\n    </tr>\n  </tbody>\n</table>\n</div>"
     },
     "execution_count": 8,
     "metadata": {},
     "output_type": "execute_result"
    }
   ],
   "source": [
    "#  Get various summary statistics that exclude NaN values\n",
    "data[numeric_features.columns].describe()"
   ],
   "metadata": {
    "collapsed": false
   }
  },
  {
   "cell_type": "code",
   "execution_count": 9,
   "outputs": [
    {
     "name": "stdout",
     "output_type": "stream",
     "text": [
      "Calculate mode value of features:\n",
      "Delivery_person_Age: 26.0\n",
      "Delivery_person_ratings: 4.9\n",
      "Restaurant_latitude: 0.0\n",
      "Restaurant_longitude: 0.0\n",
      "Delivery_location_latitude: 0.13\n",
      "Delivery_location_longitude: 0.13\n",
      "Time_order: 2022-03-20 20:15:00\n",
      "Time_order_picked: 2022-03-29 23:55:00\n",
      "Weather_conditions: Fog\n",
      "Road_traffic_density: Low\n",
      "Vehicle_condition: 2\n",
      "Type_of_order: Snack\n",
      "Type_of_vehicle: motorcycle\n",
      "Multiple_deliveries: 1.0\n",
      "Festival: No\n",
      "City: Metropolitian\n",
      "Distance: 20.442929762531403\n",
      "Time_taken_(min): 26.0\n"
     ]
    }
   ],
   "source": [
    "print(\"Calculate mode value of features:\")\n",
    "for feature in data.columns:\n",
    "    mode=st.mode(data[feature])\n",
    "    print(f'{feature}:', mode)"
   ],
   "metadata": {
    "collapsed": false
   }
  },
  {
   "cell_type": "code",
   "execution_count": 10,
   "outputs": [
    {
     "name": "stdout",
     "output_type": "stream",
     "text": [
      "Calculate median value of numerical features:\n",
      "Delivery_person_Age: 29.0\n",
      "Delivery_person_ratings: 4.7\n",
      "Restaurant_latitude: 18.55144\n",
      "Restaurant_longitude: 75.898497\n",
      "Delivery_location_latitude: 18.633934\n",
      "Delivery_location_longitude: 76.002574\n",
      "Vehicle_condition: 1.0\n",
      "Multiple_deliveries: 1.0\n",
      "Distance: 9.220865974717585\n",
      "Time_taken_(min): 26.0\n"
     ]
    }
   ],
   "source": [
    "print(\"Calculate median value of numerical features:\")\n",
    "for feature in numeric_features.columns:\n",
    "    print(f'{feature}:', data[feature].median())"
   ],
   "metadata": {
    "collapsed": false
   }
  },
  {
   "cell_type": "code",
   "execution_count": 11,
   "outputs": [
    {
     "name": "stdout",
     "output_type": "stream",
     "text": [
      "Calculate mean value of numerical features:\n",
      "Delivery_person_Age: 29.465943687637502\n",
      "Delivery_person_ratings: 4.641505366785928\n",
      "Restaurant_latitude: 17.113324414653658\n",
      "Restaurant_longitude: 70.51148149769996\n",
      "Delivery_location_latitude: 17.46504122811618\n",
      "Delivery_location_longitude: 70.82884128387298\n",
      "Vehicle_condition: 1.0049112202493389\n",
      "Multiple_deliveries: 0.7499277761728038\n",
      "Distance: 63.2388452403907\n",
      "Time_taken_(min): 26.29580657347941\n"
     ]
    }
   ],
   "source": [
    "print(\"Calculate mean value of numerical features:\")\n",
    "for feature in numeric_features.columns:\n",
    "    print(f'{feature}:', data[feature].mean())"
   ],
   "metadata": {
    "collapsed": false
   }
  },
  {
   "cell_type": "markdown",
   "source": [
    "Dispersion (Độ phân tán):"
   ],
   "metadata": {
    "collapsed": false
   }
  },
  {
   "cell_type": "code",
   "execution_count": 12,
   "outputs": [
    {
     "name": "stdout",
     "output_type": "stream",
     "text": [
      "Standard deviation (Độ lệch chuẩn):\n"
     ]
    },
    {
     "data": {
      "text/plain": "Delivery_person_Age              5.761620\nDelivery_person_ratings          0.332706\nRestaurant_latitude              7.987761\nRestaurant_longitude            21.974130\nDelivery_location_latitude       7.340339\nDelivery_location_longitude     21.142918\nVehicle_condition                0.820830\nMultiple_deliveries              0.567286\nDistance                       790.766321\nTime_taken_(min)                 9.379033\ndtype: float64"
     },
     "execution_count": 12,
     "metadata": {},
     "output_type": "execute_result"
    }
   ],
   "source": [
    "print(\"Standard deviation (Độ lệch chuẩn):\")\n",
    "data.std(numeric_only=True)"
   ],
   "metadata": {
    "collapsed": false
   }
  },
  {
   "cell_type": "code",
   "execution_count": 13,
   "outputs": [
    {
     "name": "stdout",
     "output_type": "stream",
     "text": [
      "Variance (Phương sai):\n"
     ]
    },
    {
     "data": {
      "text/plain": "Delivery_person_Age                33.196266\nDelivery_person_ratings             0.110694\nRestaurant_latitude                63.804329\nRestaurant_longitude              482.862408\nDelivery_location_latitude         53.880581\nDelivery_location_longitude       447.022977\nVehicle_condition                   0.673761\nMultiple_deliveries                 0.321813\nDistance                       625311.374970\nTime_taken_(min)                   87.966254\ndtype: float64"
     },
     "execution_count": 13,
     "metadata": {},
     "output_type": "execute_result"
    }
   ],
   "source": [
    "print(\"Variance (Phương sai):\")\n",
    "data.var(numeric_only=True)"
   ],
   "metadata": {
    "collapsed": false
   }
  },
  {
   "cell_type": "code",
   "execution_count": 14,
   "outputs": [
    {
     "data": {
      "text/plain": "Index(['Delivery_person_Age', 'Delivery_person_ratings', 'Restaurant_latitude',\n       'Restaurant_longitude', 'Delivery_location_latitude',\n       'Delivery_location_longitude', 'Vehicle_condition',\n       'Multiple_deliveries', 'Distance', 'Time_taken_(min)'],\n      dtype='object')"
     },
     "execution_count": 14,
     "metadata": {},
     "output_type": "execute_result"
    }
   ],
   "source": [
    "numeric_features.columns"
   ],
   "metadata": {
    "collapsed": false
   }
  },
  {
   "cell_type": "code",
   "execution_count": 15,
   "outputs": [
    {
     "data": {
      "text/plain": "<Figure size 2000x1500 with 12 Axes>",
      "image/png": "[encoded data removed]"
     },
     "metadata": {},
     "output_type": "display_data"
    }
   ],
   "source": [
    "fig, axes = plt.subplots(4, 3, figsize=(20, 15))\n",
    "\n",
    "sns.boxplot(x=data[\"Delivery_person_Age\"], ax=axes[0,0])\n",
    "sns.boxplot(x=data[\"Delivery_person_ratings\"], ax=axes[0,1])\n",
    "sns.boxplot(x=data[\"Restaurant_latitude\"], ax=axes[0,2])\n",
    "sns.boxplot(x=data[\"Restaurant_longitude\"], ax=axes[1,0])\n",
    "sns.boxplot(x=data[\"Delivery_location_latitude\"], ax=axes[1,1])\n",
    "sns.boxplot(x=data[\"Delivery_location_longitude\"], ax=axes[1,2])\n",
    "sns.boxplot(x=data[\"Vehicle_condition\"], ax=axes[2,0])\n",
    "sns.boxplot(x=data[\"Multiple_deliveries\"], ax=axes[2,1])\n",
    "sns.boxplot(x=data[\"Distance\"], ax=axes[2,2])\n",
    "sns.boxplot(x=data[\"Time_taken_(min)\"], ax=axes[3,1])\n",
    "plt.tight_layout()\n",
    "plt.show()"
   ],
   "metadata": {
    "collapsed": false
   }
  },
  {
   "cell_type": "markdown",
   "source": [
    "# Shape of data"
   ],
   "metadata": {
    "collapsed": false
   }
  },
  {
   "cell_type": "code",
   "execution_count": 16,
   "outputs": [
    {
     "data": {
      "text/plain": "Delivery_person_Age             0.062663\nDelivery_person_ratings        -2.522636\nRestaurant_latitude            -1.254250\nRestaurant_longitude           -3.101303\nDelivery_location_latitude     -0.701659\nDelivery_location_longitude    -2.951788\nVehicle_condition               0.014318\nMultiple_deliveries             0.296862\nDistance                       19.032912\nTime_taken_(min)                0.485867\ndtype: float64"
     },
     "execution_count": 16,
     "metadata": {},
     "output_type": "execute_result"
    }
   ],
   "source": [
    "data.skew(numeric_only=True)"
   ],
   "metadata": {
    "collapsed": false
   }
  },
  {
   "cell_type": "code",
   "execution_count": 17,
   "outputs": [
    {
     "name": "stderr",
     "output_type": "stream",
     "text": [
      "/tmp/ipykernel_20962/2401849670.py:1: UserWarning: \n",
      "\n",
      "`distplot` is a deprecated function and will be removed in seaborn v0.14.0.\n",
      "\n",
      "Please adapt your code to use either `displot` (a figure-level function with\n",
      "similar flexibility) or `histplot` (an axes-level function for histograms).\n",
      "\n",
      "For a guide to updating your code to use the new functions, please see\n",
      "https://gist.github.com/mwaskom/de44147ed2974457ad6372750bbe5751\n",
      "\n",
      "  sns.distplot(data.skew(numeric_only=True), color='blue',axlabel ='Skewness')\n"
     ]
    },
    {
     "data": {
      "text/plain": "<AxesSubplot: xlabel='Skewness', ylabel='Density'>"
     },
     "execution_count": 17,
     "metadata": {},
     "output_type": "execute_result"
    },
    {
     "data": {
      "text/plain": "<Figure size 640x480 with 1 Axes>",
      "image/png": "[encoded data removed]"
     },
     "metadata": {},
     "output_type": "display_data"
    }
   ],
   "source": [
    "sns.distplot(data.skew(numeric_only=True), color='blue',axlabel ='Skewness')"
   ],
   "metadata": {
    "collapsed": false
   }
  },
  {
   "cell_type": "code",
   "execution_count": 18,
   "outputs": [
    {
     "data": {
      "text/plain": "Delivery_person_Age             -1.041990\nDelivery_person_ratings         15.797830\nRestaurant_latitude              3.278753\nRestaurant_longitude             8.932547\nDelivery_location_latitude       0.262402\nDelivery_location_longitude      7.075262\nVehicle_condition               -1.459311\nMultiple_deliveries              0.942856\nDistance                       400.618526\nTime_taken_(min)                -0.310425\ndtype: float64"
     },
     "execution_count": 18,
     "metadata": {},
     "output_type": "execute_result"
    }
   ],
   "source": [
    "data.kurt(numeric_only=True)"
   ],
   "metadata": {
    "collapsed": false
   }
  },
  {
   "cell_type": "code",
   "execution_count": 19,
   "outputs": [
    {
     "name": "stderr",
     "output_type": "stream",
     "text": [
      "/tmp/ipykernel_20962/3121433695.py:1: UserWarning: \n",
      "\n",
      "`distplot` is a deprecated function and will be removed in seaborn v0.14.0.\n",
      "\n",
      "Please adapt your code to use either `displot` (a figure-level function with\n",
      "similar flexibility) or `histplot` (an axes-level function for histograms).\n",
      "\n",
      "For a guide to updating your code to use the new functions, please see\n",
      "https://gist.github.com/mwaskom/de44147ed2974457ad6372750bbe5751\n",
      "\n",
      "  sns.distplot(data.kurt(numeric_only=True),color='red',axlabel ='Kurtosis',norm_hist= False, kde = True,rug = False)\n"
     ]
    },
    {
     "data": {
      "text/plain": "<AxesSubplot: xlabel='Kurtosis', ylabel='Density'>"
     },
     "execution_count": 19,
     "metadata": {},
     "output_type": "execute_result"
    },
    {
     "data": {
      "text/plain": "<Figure size 640x480 with 1 Axes>",
      "image/png": "[encoded data removed]"
     },
     "metadata": {},
     "output_type": "display_data"
    }
   ],
   "source": [
    "sns.distplot(data.kurt(numeric_only=True),color='red',axlabel ='Kurtosis',norm_hist= False, kde = True,rug = False)"
   ],
   "metadata": {
    "collapsed": false
   }
  },
  {
   "cell_type": "markdown",
   "source": [
    "# Correlation"
   ],
   "metadata": {
    "collapsed": false
   }
  },
  {
   "cell_type": "code",
   "execution_count": null,
   "outputs": [],
   "source": [
    "fig, axes = plt.subplots(3, 3, figsize=(20, 15))\n",
    "\n",
    "sns.regplot(x=data[\"Delivery_person_Age\"], y=data[\"Time_taken_(min)\"], ax=axes[0,0])\n",
    "sns.regplot(x=data[\"Delivery_person_ratings\"], y=data[\"Time_taken_(min)\"], ax=axes[0,1])\n",
    "sns.regplot(x=data[\"Restaurant_latitude\"], y=data[\"Time_taken_(min)\"], ax=axes[0,2])\n",
    "sns.regplot(x=data[\"Restaurant_longitude\"], y=data[\"Time_taken_(min)\"], ax=axes[1,0])\n",
    "sns.regplot(x=data[\"Delivery_location_latitude\"], y=data[\"Time_taken_(min)\"], ax=axes[1,1])\n",
    "sns.regplot(x=data[\"Delivery_location_longitude\"], y=data[\"Time_taken_(min)\"], ax=axes[1,2])\n",
    "sns.regplot(x=data[\"Vehicle_condition\"], y=data[\"Time_taken_(min)\"], ax=axes[2,0])\n",
    "sns.regplot(x=data[\"Multiple_deliveries\"], y=data[\"Time_taken_(min)\"], ax=axes[2,1])\n",
    "sns.regplot(x=data[\"Distance\"], y=data[\"Time_taken_(min)\"], ax=axes[2,2])\n",
    "plt.tight_layout()\n",
    "plt.show()"
   ],
   "metadata": {
    "collapsed": false,
    "pycharm": {
     "is_executing": true
    }
   }
  },
  {
   "cell_type": "code",
   "execution_count": null,
   "outputs": [],
   "source": [
    "f , ax = plt.subplots(figsize = (14,12))\n",
    "plt.title('Correlation of Features with Time Taken',y=1,size=16)\n",
    "sns.heatmap(data.corr(numeric_only=True),square = True,  vmax=1)"
   ],
   "metadata": {
    "collapsed": false,
    "pycharm": {
     "is_executing": true
    }
   }
  },
  {
   "cell_type": "code",
   "execution_count": null,
   "outputs": [],
   "source": [
    "correlation = numeric_features.corr()\n",
    "print(correlation['Time_taken_(min)'].sort_values(ascending = False),'\\n')"
   ],
   "metadata": {
    "collapsed": false,
    "pycharm": {
     "is_executing": true
    }
   }
  },
  {
   "cell_type": "markdown",
   "source": [
    "# Group By"
   ],
   "metadata": {
    "collapsed": false
   }
  },
  {
   "cell_type": "code",
   "execution_count": null,
   "outputs": [],
   "source": [
    "categorical_features.columns"
   ],
   "metadata": {
    "collapsed": false,
    "pycharm": {
     "is_executing": true
    }
   }
  },
  {
   "cell_type": "code",
   "execution_count": null,
   "outputs": [],
   "source": [
    "data_gb = data[[\"Road_traffic_density\", \"Type_of_order\",\"Time_taken_(min)\"]]\n",
    "data_groupby = data_gb.groupby([\"Road_traffic_density\", \"Type_of_order\"], as_index=False).mean()\n",
    "\n",
    "data_groupby"
   ],
   "metadata": {
    "collapsed": false,
    "pycharm": {
     "is_executing": true
    }
   }
  },
  {
   "cell_type": "code",
   "execution_count": null,
   "outputs": [],
   "source": [
    "data_pivot = data_groupby.pivot(index=\"Road_traffic_density\", columns=\"Type_of_order\")\n",
    "data_pivot"
   ],
   "metadata": {
    "collapsed": false,
    "pycharm": {
     "is_executing": true
    }
   }
  },
  {
   "cell_type": "code",
   "execution_count": null,
   "outputs": [],
   "source": [
    "plt.pcolor(data_pivot, cmap='RdBu')\n",
    "plt.colorbar()\n",
    "plt.show()"
   ],
   "metadata": {
    "collapsed": false,
    "pycharm": {
     "is_executing": true
    }
   }
  },
  {
   "cell_type": "markdown",
   "source": [
    "# Phân tích ANOVA"
   ],
   "metadata": {
    "collapsed": false
   }
  },
  {
   "cell_type": "code",
   "execution_count": null,
   "outputs": [],
   "source": [
    "data_anova = data[[\"Type_of_order\",\"Time_taken_(min)\"]]\n",
    "grouped_anova = data_anova.groupby(['Type_of_order'])\n",
    "anova_result = stats.f_oneway(grouped_anova.get_group('Buffet')['Time_taken_(min)'],\n",
    "                              grouped_anova.get_group('Drinks')['Time_taken_(min)'])\n",
    "anova_result"
   ],
   "metadata": {
    "collapsed": false,
    "pycharm": {
     "is_executing": true
    }
   }
  }
 ],
 "metadata": {
  "kernelspec": {
   "display_name": "Python 3",
   "language": "python",
   "name": "python3"
  },
  "language_info": {
   "codemirror_mode": {
    "name": "ipython",
    "version": 2
   },
   "file_extension": ".py",
   "mimetype": "text/x-python",
   "name": "python",
   "nbconvert_exporter": "python",
   "pygments_lexer": "ipython2",
   "version": "2.7.6"
  }
 },
 "nbformat": 4,
 "nbformat_minor": 0
}
