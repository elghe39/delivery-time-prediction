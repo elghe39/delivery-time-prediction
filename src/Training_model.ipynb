{
  "nbformat": 4,
  "nbformat_minor": 0,
  "metadata": {
    "colab": {
      "provenance": [],
      "collapsed_sections": [],
      "toc_visible": true
    },
    "kernelspec": {
      "name": "python3",
      "display_name": "Python 3"
    },
    "language_info": {
      "name": "python"
    }
  },
  "cells": [
    {
      "cell_type": "markdown",
      "source": [
        "## Features Selection:\n",
        "    * Numerical feature:\n",
        "        Multiple_deliveries\n",
        "        Distance\n",
        "        Delivery_person_Age\n",
        "    * Categorical feature:\n",
        "        Festival\n",
        "        Road_traffic_density"
      ],
      "metadata": {
        "id": "5rgmFBd2HkbN"
      }
    },
    {
      "cell_type": "code",
      "source": [
        "#  data[[feature_selection]].to_csv('../dataset/dataset_selection.csv')"
      ],
      "metadata": {
        "id": "FfNGRt6DIDSp"
      },
      "execution_count": 383,
      "outputs": []
    },
    {
      "cell_type": "code",
      "source": [
        "import pandas as pd\n",
        "import numpy as np\n",
        "\n",
        "data = pd.read_csv('../dataset/dataset_clean.csv')\n",
        "data = data[['Multiple_deliveries','Distance','Delivery_person_Age','Festival','Road_traffic_density','Time_taken_(min)']]"
      ],
      "metadata": {
        "id": "P56kNg_6HsmY"
      },
      "execution_count": 385,
      "outputs": []
    },
    {
      "cell_type": "code",
      "source": [
        "data"
      ],
      "metadata": {
        "colab": {
          "base_uri": "https://localhost:8080/",
          "height": 424
        },
        "id": "55DcqvZ7IA5e",
        "outputId": "4eebebca-3d27-40a3-93d7-9e98f23876ef"
      },
      "execution_count": 386,
      "outputs": [
        {
          "output_type": "execute_result",
          "data": {
            "text/plain": [
              "       Multiple_deliveries   Distance  Delivery_person_Age Festival  \\\n",
              "0                      1.0   3.018911                 36.0       No   \n",
              "1                      1.0  13.973178                 37.0       No   \n",
              "2                      1.0   6.058825                 25.0       No   \n",
              "3                      1.0  19.975520                 28.0       No   \n",
              "4                      1.0  12.435540                 22.0       No   \n",
              "...                    ...        ...                  ...      ...   \n",
              "44652                  1.0   1.465159                 26.0       No   \n",
              "44653                  1.0   2.979763                 28.0       No   \n",
              "44654                  1.0  13.894367                 30.0       No   \n",
              "44655                  1.0  10.444972                 20.0       No   \n",
              "44656                  1.0   7.771834                 24.0       No   \n",
              "\n",
              "      Road_traffic_density  Time_taken_(min)  \n",
              "0                     High              25.0  \n",
              "1                   Medium              40.0  \n",
              "2                     High              30.0  \n",
              "3                      Low              11.0  \n",
              "4                      Jam              47.0  \n",
              "...                    ...               ...  \n",
              "44652                  Low              21.0  \n",
              "44653                  Low              18.0  \n",
              "44654                  Low              35.0  \n",
              "44655                  Low              18.0  \n",
              "44656                  Low              17.0  \n",
              "\n",
              "[44657 rows x 6 columns]"
            ],
            "text/html": [
              "\n",
              "  <div id=\"df-5d586d92-09f2-480a-a2e0-c962b4f2f830\">\n",
              "    <div class=\"colab-df-container\">\n",
              "      <div>\n",
              "<style scoped>\n",
              "    .dataframe tbody tr th:only-of-type {\n",
              "        vertical-align: middle;\n",
              "    }\n",
              "\n",
              "    .dataframe tbody tr th {\n",
              "        vertical-align: top;\n",
              "    }\n",
              "\n",
              "    .dataframe thead th {\n",
              "        text-align: right;\n",
              "    }\n",
              "</style>\n",
              "<table border=\"1\" class=\"dataframe\">\n",
              "  <thead>\n",
              "    <tr style=\"text-align: right;\">\n",
              "      <th></th>\n",
              "      <th>Multiple_deliveries</th>\n",
              "      <th>Distance</th>\n",
              "      <th>Delivery_person_Age</th>\n",
              "      <th>Festival</th>\n",
              "      <th>Road_traffic_density</th>\n",
              "      <th>Time_taken_(min)</th>\n",
              "    </tr>\n",
              "  </thead>\n",
              "  <tbody>\n",
              "    <tr>\n",
              "      <th>0</th>\n",
              "      <td>1.0</td>\n",
              "      <td>3.018911</td>\n",
              "      <td>36.0</td>\n",
              "      <td>No</td>\n",
              "      <td>High</td>\n",
              "      <td>25.0</td>\n",
              "    </tr>\n",
              "    <tr>\n",
              "      <th>1</th>\n",
              "      <td>1.0</td>\n",
              "      <td>13.973178</td>\n",
              "      <td>37.0</td>\n",
              "      <td>No</td>\n",
              "      <td>Medium</td>\n",
              "      <td>40.0</td>\n",
              "    </tr>\n",
              "    <tr>\n",
              "      <th>2</th>\n",
              "      <td>1.0</td>\n",
              "      <td>6.058825</td>\n",
              "      <td>25.0</td>\n",
              "      <td>No</td>\n",
              "      <td>High</td>\n",
              "      <td>30.0</td>\n",
              "    </tr>\n",
              "    <tr>\n",
              "      <th>3</th>\n",
              "      <td>1.0</td>\n",
              "      <td>19.975520</td>\n",
              "      <td>28.0</td>\n",
              "      <td>No</td>\n",
              "      <td>Low</td>\n",
              "      <td>11.0</td>\n",
              "    </tr>\n",
              "    <tr>\n",
              "      <th>4</th>\n",
              "      <td>1.0</td>\n",
              "      <td>12.435540</td>\n",
              "      <td>22.0</td>\n",
              "      <td>No</td>\n",
              "      <td>Jam</td>\n",
              "      <td>47.0</td>\n",
              "    </tr>\n",
              "    <tr>\n",
              "      <th>...</th>\n",
              "      <td>...</td>\n",
              "      <td>...</td>\n",
              "      <td>...</td>\n",
              "      <td>...</td>\n",
              "      <td>...</td>\n",
              "      <td>...</td>\n",
              "    </tr>\n",
              "    <tr>\n",
              "      <th>44652</th>\n",
              "      <td>1.0</td>\n",
              "      <td>1.465159</td>\n",
              "      <td>26.0</td>\n",
              "      <td>No</td>\n",
              "      <td>Low</td>\n",
              "      <td>21.0</td>\n",
              "    </tr>\n",
              "    <tr>\n",
              "      <th>44653</th>\n",
              "      <td>1.0</td>\n",
              "      <td>2.979763</td>\n",
              "      <td>28.0</td>\n",
              "      <td>No</td>\n",
              "      <td>Low</td>\n",
              "      <td>18.0</td>\n",
              "    </tr>\n",
              "    <tr>\n",
              "      <th>44654</th>\n",
              "      <td>1.0</td>\n",
              "      <td>13.894367</td>\n",
              "      <td>30.0</td>\n",
              "      <td>No</td>\n",
              "      <td>Low</td>\n",
              "      <td>35.0</td>\n",
              "    </tr>\n",
              "    <tr>\n",
              "      <th>44655</th>\n",
              "      <td>1.0</td>\n",
              "      <td>10.444972</td>\n",
              "      <td>20.0</td>\n",
              "      <td>No</td>\n",
              "      <td>Low</td>\n",
              "      <td>18.0</td>\n",
              "    </tr>\n",
              "    <tr>\n",
              "      <th>44656</th>\n",
              "      <td>1.0</td>\n",
              "      <td>7.771834</td>\n",
              "      <td>24.0</td>\n",
              "      <td>No</td>\n",
              "      <td>Low</td>\n",
              "      <td>17.0</td>\n",
              "    </tr>\n",
              "  </tbody>\n",
              "</table>\n",
              "<p>44657 rows × 6 columns</p>\n",
              "</div>\n",
              "      <button class=\"colab-df-convert\" onclick=\"convertToInteractive('df-5d586d92-09f2-480a-a2e0-c962b4f2f830')\"\n",
              "              title=\"Convert this dataframe to an interactive table.\"\n",
              "              style=\"display:none;\">\n",
              "        \n",
              "  <svg xmlns=\"http://www.w3.org/2000/svg\" height=\"24px\"viewBox=\"0 0 24 24\"\n",
              "       width=\"24px\">\n",
              "    <path d=\"M0 0h24v24H0V0z\" fill=\"none\"/>\n",
              "    <path d=\"M18.56 5.44l.94 2.06.94-2.06 2.06-.94-2.06-.94-.94-2.06-.94 2.06-2.06.94zm-11 1L8.5 8.5l.94-2.06 2.06-.94-2.06-.94L8.5 2.5l-.94 2.06-2.06.94zm10 10l.94 2.06.94-2.06 2.06-.94-2.06-.94-.94-2.06-.94 2.06-2.06.94z\"/><path d=\"M17.41 7.96l-1.37-1.37c-.4-.4-.92-.59-1.43-.59-.52 0-1.04.2-1.43.59L10.3 9.45l-7.72 7.72c-.78.78-.78 2.05 0 2.83L4 21.41c.39.39.9.59 1.41.59.51 0 1.02-.2 1.41-.59l7.78-7.78 2.81-2.81c.8-.78.8-2.07 0-2.86zM5.41 20L4 18.59l7.72-7.72 1.47 1.35L5.41 20z\"/>\n",
              "  </svg>\n",
              "      </button>\n",
              "      \n",
              "  <style>\n",
              "    .colab-df-container {\n",
              "      display:flex;\n",
              "      flex-wrap:wrap;\n",
              "      gap: 12px;\n",
              "    }\n",
              "\n",
              "    .colab-df-convert {\n",
              "      background-color: #E8F0FE;\n",
              "      border: none;\n",
              "      border-radius: 50%;\n",
              "      cursor: pointer;\n",
              "      display: none;\n",
              "      fill: #1967D2;\n",
              "      height: 32px;\n",
              "      padding: 0 0 0 0;\n",
              "      width: 32px;\n",
              "    }\n",
              "\n",
              "    .colab-df-convert:hover {\n",
              "      background-color: #E2EBFA;\n",
              "      box-shadow: 0px 1px 2px rgba(60, 64, 67, 0.3), 0px 1px 3px 1px rgba(60, 64, 67, 0.15);\n",
              "      fill: #174EA6;\n",
              "    }\n",
              "\n",
              "    [theme=dark] .colab-df-convert {\n",
              "      background-color: #3B4455;\n",
              "      fill: #D2E3FC;\n",
              "    }\n",
              "\n",
              "    [theme=dark] .colab-df-convert:hover {\n",
              "      background-color: #434B5C;\n",
              "      box-shadow: 0px 1px 3px 1px rgba(0, 0, 0, 0.15);\n",
              "      filter: drop-shadow(0px 1px 2px rgba(0, 0, 0, 0.3));\n",
              "      fill: #FFFFFF;\n",
              "    }\n",
              "  </style>\n",
              "\n",
              "      <script>\n",
              "        const buttonEl =\n",
              "          document.querySelector('#df-5d586d92-09f2-480a-a2e0-c962b4f2f830 button.colab-df-convert');\n",
              "        buttonEl.style.display =\n",
              "          google.colab.kernel.accessAllowed ? 'block' : 'none';\n",
              "\n",
              "        async function convertToInteractive(key) {\n",
              "          const element = document.querySelector('#df-5d586d92-09f2-480a-a2e0-c962b4f2f830');\n",
              "          const dataTable =\n",
              "            await google.colab.kernel.invokeFunction('convertToInteractive',\n",
              "                                                     [key], {});\n",
              "          if (!dataTable) return;\n",
              "\n",
              "          const docLinkHtml = 'Like what you see? Visit the ' +\n",
              "            '<a target=\"_blank\" href=https://colab.research.google.com/notebooks/data_table.ipynb>data table notebook</a>'\n",
              "            + ' to learn more about interactive tables.';\n",
              "          element.innerHTML = '';\n",
              "          dataTable['output_type'] = 'display_data';\n",
              "          await google.colab.output.renderOutput(dataTable, element);\n",
              "          const docLink = document.createElement('div');\n",
              "          docLink.innerHTML = docLinkHtml;\n",
              "          element.appendChild(docLink);\n",
              "        }\n",
              "      </script>\n",
              "    </div>\n",
              "  </div>\n",
              "  "
            ]
          },
          "metadata": {},
          "execution_count": 386
        }
      ]
    },
    {
      "cell_type": "code",
      "source": [
        "X = data.drop(['Time_taken_(min)','Festival','Road_traffic_density'], axis = 1).values\n",
        "y = data['Time_taken_(min)'].values"
      ],
      "metadata": {
        "id": "M_Dpn4d7ICk9"
      },
      "execution_count": 387,
      "outputs": []
    },
    {
      "cell_type": "code",
      "source": [
        "#X"
      ],
      "metadata": {
        "colab": {
          "base_uri": "https://localhost:8080/"
        },
        "id": "wRiIDq2zPr7K",
        "outputId": "2c51a20a-88c3-4b6c-847c-c564d2dbd803"
      },
      "execution_count": 388,
      "outputs": [
        {
          "output_type": "execute_result",
          "data": {
            "text/plain": [
              "array([[ 1.        ,  3.01891148, 36.        ],\n",
              "       [ 1.        , 13.97317756, 37.        ],\n",
              "       [ 1.        ,  6.05882517, 25.        ],\n",
              "       ...,\n",
              "       [ 1.        , 13.89436656, 30.        ],\n",
              "       [ 1.        , 10.44497153, 20.        ],\n",
              "       [ 1.        ,  7.7718343 , 24.        ]])"
            ]
          },
          "metadata": {},
          "execution_count": 388
        }
      ]
    },
    {
      "cell_type": "code",
      "source": [
        "#y"
      ],
      "metadata": {
        "colab": {
          "base_uri": "https://localhost:8080/"
        },
        "id": "3QAH9qBpPsbW",
        "outputId": "354baf25-8b8d-4c87-cf5f-00f68888206d"
      },
      "execution_count": 389,
      "outputs": [
        {
          "output_type": "execute_result",
          "data": {
            "text/plain": [
              "array([25., 40., 30., ..., 35., 18., 17.])"
            ]
          },
          "metadata": {},
          "execution_count": 389
        }
      ]
    },
    {
      "cell_type": "code",
      "source": [
        "from sklearn.feature_selection import SelectKBest\n",
        "from sklearn.feature_selection import f_classif"
      ],
      "metadata": {
        "id": "38NEqtpMKQ76"
      },
      "execution_count": 390,
      "outputs": []
    },
    {
      "cell_type": "code",
      "source": [
        "#fvalue_Best = SelectKBest(f_classif, k=1)\n",
        "#fvalue_Best = SelectKBest(f_classif, k=2)\n",
        "fvalue_Best = SelectKBest(f_classif, k=3)\n",
        "X_kbest = fvalue_Best.fit_transform(X, y)\n",
        "print('Original number of features:', X.shape)\n",
        "print('Reduced number of features:', X_kbest.shape)"
      ],
      "metadata": {
        "colab": {
          "base_uri": "https://localhost:8080/"
        },
        "id": "KBr6nR8RKRl-",
        "outputId": "85df0283-233a-486a-bccd-461b4969a442"
      },
      "execution_count": 391,
      "outputs": [
        {
          "output_type": "stream",
          "name": "stdout",
          "text": [
            "Original number of features: (44657, 3)\n",
            "Reduced number of features: (44657, 3)\n"
          ]
        }
      ]
    },
    {
      "cell_type": "code",
      "source": [
        "from sklearn.linear_model import LinearRegression\n",
        "LnRegres = LinearRegression()\n",
        "LnRegres.fit(X_kbest,y)"
      ],
      "metadata": {
        "colab": {
          "base_uri": "https://localhost:8080/"
        },
        "id": "NRwLEFZjKV0F",
        "outputId": "e0d9e246-ff17-44a3-ea15-067fc82e8928"
      },
      "execution_count": 392,
      "outputs": [
        {
          "output_type": "execute_result",
          "data": {
            "text/plain": [
              "LinearRegression()"
            ]
          },
          "metadata": {},
          "execution_count": 392
        }
      ]
    },
    {
      "cell_type": "code",
      "source": [
        "yHat = LnRegres.predict(X_kbest)"
      ],
      "metadata": {
        "id": "aQyTpmZmKsME"
      },
      "execution_count": 393,
      "outputs": []
    },
    {
      "cell_type": "code",
      "source": [
        "from sklearn.metrics import mean_squared_error as mse\n",
        "mse(yHat, y)"
      ],
      "metadata": {
        "colab": {
          "base_uri": "https://localhost:8080/"
        },
        "id": "6HciHq5ZK2id",
        "outputId": "b6c8fbe7-145c-4aa9-cbb8-718b01c8aa6e"
      },
      "execution_count": 394,
      "outputs": [
        {
          "output_type": "execute_result",
          "data": {
            "text/plain": [
              "62.285030672415225"
            ]
          },
          "metadata": {},
          "execution_count": 394
        }
      ]
    },
    {
      "cell_type": "code",
      "source": [
        "from sklearn.preprocessing import LabelEncoder\n",
        "lE = LabelEncoder()"
      ],
      "metadata": {
        "id": "JIvXwB38LFMQ"
      },
      "execution_count": 395,
      "outputs": []
    },
    {
      "cell_type": "code",
      "source": [
        "data['Road_traffic_density'] = lE.fit_transform(data['Road_traffic_density'])\n",
        "data['Festival'] = lE.fit_transform(data['Festival'])"
      ],
      "metadata": {
        "id": "ACGjJnJILzW8"
      },
      "execution_count": 396,
      "outputs": []
    },
    {
      "cell_type": "code",
      "source": [
        "data"
      ],
      "metadata": {
        "colab": {
          "base_uri": "https://localhost:8080/",
          "height": 424
        },
        "id": "n9V-ec_DLoRr",
        "outputId": "dee6aeaf-f2c2-40ff-e47f-0bbdf2624148"
      },
      "execution_count": 397,
      "outputs": [
        {
          "output_type": "execute_result",
          "data": {
            "text/plain": [
              "       Multiple_deliveries   Distance  Delivery_person_Age  Festival  \\\n",
              "0                      1.0   3.018911                 36.0         0   \n",
              "1                      1.0  13.973178                 37.0         0   \n",
              "2                      1.0   6.058825                 25.0         0   \n",
              "3                      1.0  19.975520                 28.0         0   \n",
              "4                      1.0  12.435540                 22.0         0   \n",
              "...                    ...        ...                  ...       ...   \n",
              "44652                  1.0   1.465159                 26.0         0   \n",
              "44653                  1.0   2.979763                 28.0         0   \n",
              "44654                  1.0  13.894367                 30.0         0   \n",
              "44655                  1.0  10.444972                 20.0         0   \n",
              "44656                  1.0   7.771834                 24.0         0   \n",
              "\n",
              "       Road_traffic_density  Time_taken_(min)  \n",
              "0                         0              25.0  \n",
              "1                         3              40.0  \n",
              "2                         0              30.0  \n",
              "3                         2              11.0  \n",
              "4                         1              47.0  \n",
              "...                     ...               ...  \n",
              "44652                     2              21.0  \n",
              "44653                     2              18.0  \n",
              "44654                     2              35.0  \n",
              "44655                     2              18.0  \n",
              "44656                     2              17.0  \n",
              "\n",
              "[44657 rows x 6 columns]"
            ],
            "text/html": [
              "\n",
              "  <div id=\"df-9c0e6a59-2ce4-41a0-ba20-07a59d0424c0\">\n",
              "    <div class=\"colab-df-container\">\n",
              "      <div>\n",
              "<style scoped>\n",
              "    .dataframe tbody tr th:only-of-type {\n",
              "        vertical-align: middle;\n",
              "    }\n",
              "\n",
              "    .dataframe tbody tr th {\n",
              "        vertical-align: top;\n",
              "    }\n",
              "\n",
              "    .dataframe thead th {\n",
              "        text-align: right;\n",
              "    }\n",
              "</style>\n",
              "<table border=\"1\" class=\"dataframe\">\n",
              "  <thead>\n",
              "    <tr style=\"text-align: right;\">\n",
              "      <th></th>\n",
              "      <th>Multiple_deliveries</th>\n",
              "      <th>Distance</th>\n",
              "      <th>Delivery_person_Age</th>\n",
              "      <th>Festival</th>\n",
              "      <th>Road_traffic_density</th>\n",
              "      <th>Time_taken_(min)</th>\n",
              "    </tr>\n",
              "  </thead>\n",
              "  <tbody>\n",
              "    <tr>\n",
              "      <th>0</th>\n",
              "      <td>1.0</td>\n",
              "      <td>3.018911</td>\n",
              "      <td>36.0</td>\n",
              "      <td>0</td>\n",
              "      <td>0</td>\n",
              "      <td>25.0</td>\n",
              "    </tr>\n",
              "    <tr>\n",
              "      <th>1</th>\n",
              "      <td>1.0</td>\n",
              "      <td>13.973178</td>\n",
              "      <td>37.0</td>\n",
              "      <td>0</td>\n",
              "      <td>3</td>\n",
              "      <td>40.0</td>\n",
              "    </tr>\n",
              "    <tr>\n",
              "      <th>2</th>\n",
              "      <td>1.0</td>\n",
              "      <td>6.058825</td>\n",
              "      <td>25.0</td>\n",
              "      <td>0</td>\n",
              "      <td>0</td>\n",
              "      <td>30.0</td>\n",
              "    </tr>\n",
              "    <tr>\n",
              "      <th>3</th>\n",
              "      <td>1.0</td>\n",
              "      <td>19.975520</td>\n",
              "      <td>28.0</td>\n",
              "      <td>0</td>\n",
              "      <td>2</td>\n",
              "      <td>11.0</td>\n",
              "    </tr>\n",
              "    <tr>\n",
              "      <th>4</th>\n",
              "      <td>1.0</td>\n",
              "      <td>12.435540</td>\n",
              "      <td>22.0</td>\n",
              "      <td>0</td>\n",
              "      <td>1</td>\n",
              "      <td>47.0</td>\n",
              "    </tr>\n",
              "    <tr>\n",
              "      <th>...</th>\n",
              "      <td>...</td>\n",
              "      <td>...</td>\n",
              "      <td>...</td>\n",
              "      <td>...</td>\n",
              "      <td>...</td>\n",
              "      <td>...</td>\n",
              "    </tr>\n",
              "    <tr>\n",
              "      <th>44652</th>\n",
              "      <td>1.0</td>\n",
              "      <td>1.465159</td>\n",
              "      <td>26.0</td>\n",
              "      <td>0</td>\n",
              "      <td>2</td>\n",
              "      <td>21.0</td>\n",
              "    </tr>\n",
              "    <tr>\n",
              "      <th>44653</th>\n",
              "      <td>1.0</td>\n",
              "      <td>2.979763</td>\n",
              "      <td>28.0</td>\n",
              "      <td>0</td>\n",
              "      <td>2</td>\n",
              "      <td>18.0</td>\n",
              "    </tr>\n",
              "    <tr>\n",
              "      <th>44654</th>\n",
              "      <td>1.0</td>\n",
              "      <td>13.894367</td>\n",
              "      <td>30.0</td>\n",
              "      <td>0</td>\n",
              "      <td>2</td>\n",
              "      <td>35.0</td>\n",
              "    </tr>\n",
              "    <tr>\n",
              "      <th>44655</th>\n",
              "      <td>1.0</td>\n",
              "      <td>10.444972</td>\n",
              "      <td>20.0</td>\n",
              "      <td>0</td>\n",
              "      <td>2</td>\n",
              "      <td>18.0</td>\n",
              "    </tr>\n",
              "    <tr>\n",
              "      <th>44656</th>\n",
              "      <td>1.0</td>\n",
              "      <td>7.771834</td>\n",
              "      <td>24.0</td>\n",
              "      <td>0</td>\n",
              "      <td>2</td>\n",
              "      <td>17.0</td>\n",
              "    </tr>\n",
              "  </tbody>\n",
              "</table>\n",
              "<p>44657 rows × 6 columns</p>\n",
              "</div>\n",
              "      <button class=\"colab-df-convert\" onclick=\"convertToInteractive('df-9c0e6a59-2ce4-41a0-ba20-07a59d0424c0')\"\n",
              "              title=\"Convert this dataframe to an interactive table.\"\n",
              "              style=\"display:none;\">\n",
              "        \n",
              "  <svg xmlns=\"http://www.w3.org/2000/svg\" height=\"24px\"viewBox=\"0 0 24 24\"\n",
              "       width=\"24px\">\n",
              "    <path d=\"M0 0h24v24H0V0z\" fill=\"none\"/>\n",
              "    <path d=\"M18.56 5.44l.94 2.06.94-2.06 2.06-.94-2.06-.94-.94-2.06-.94 2.06-2.06.94zm-11 1L8.5 8.5l.94-2.06 2.06-.94-2.06-.94L8.5 2.5l-.94 2.06-2.06.94zm10 10l.94 2.06.94-2.06 2.06-.94-2.06-.94-.94-2.06-.94 2.06-2.06.94z\"/><path d=\"M17.41 7.96l-1.37-1.37c-.4-.4-.92-.59-1.43-.59-.52 0-1.04.2-1.43.59L10.3 9.45l-7.72 7.72c-.78.78-.78 2.05 0 2.83L4 21.41c.39.39.9.59 1.41.59.51 0 1.02-.2 1.41-.59l7.78-7.78 2.81-2.81c.8-.78.8-2.07 0-2.86zM5.41 20L4 18.59l7.72-7.72 1.47 1.35L5.41 20z\"/>\n",
              "  </svg>\n",
              "      </button>\n",
              "      \n",
              "  <style>\n",
              "    .colab-df-container {\n",
              "      display:flex;\n",
              "      flex-wrap:wrap;\n",
              "      gap: 12px;\n",
              "    }\n",
              "\n",
              "    .colab-df-convert {\n",
              "      background-color: #E8F0FE;\n",
              "      border: none;\n",
              "      border-radius: 50%;\n",
              "      cursor: pointer;\n",
              "      display: none;\n",
              "      fill: #1967D2;\n",
              "      height: 32px;\n",
              "      padding: 0 0 0 0;\n",
              "      width: 32px;\n",
              "    }\n",
              "\n",
              "    .colab-df-convert:hover {\n",
              "      background-color: #E2EBFA;\n",
              "      box-shadow: 0px 1px 2px rgba(60, 64, 67, 0.3), 0px 1px 3px 1px rgba(60, 64, 67, 0.15);\n",
              "      fill: #174EA6;\n",
              "    }\n",
              "\n",
              "    [theme=dark] .colab-df-convert {\n",
              "      background-color: #3B4455;\n",
              "      fill: #D2E3FC;\n",
              "    }\n",
              "\n",
              "    [theme=dark] .colab-df-convert:hover {\n",
              "      background-color: #434B5C;\n",
              "      box-shadow: 0px 1px 3px 1px rgba(0, 0, 0, 0.15);\n",
              "      filter: drop-shadow(0px 1px 2px rgba(0, 0, 0, 0.3));\n",
              "      fill: #FFFFFF;\n",
              "    }\n",
              "  </style>\n",
              "\n",
              "      <script>\n",
              "        const buttonEl =\n",
              "          document.querySelector('#df-9c0e6a59-2ce4-41a0-ba20-07a59d0424c0 button.colab-df-convert');\n",
              "        buttonEl.style.display =\n",
              "          google.colab.kernel.accessAllowed ? 'block' : 'none';\n",
              "\n",
              "        async function convertToInteractive(key) {\n",
              "          const element = document.querySelector('#df-9c0e6a59-2ce4-41a0-ba20-07a59d0424c0');\n",
              "          const dataTable =\n",
              "            await google.colab.kernel.invokeFunction('convertToInteractive',\n",
              "                                                     [key], {});\n",
              "          if (!dataTable) return;\n",
              "\n",
              "          const docLinkHtml = 'Like what you see? Visit the ' +\n",
              "            '<a target=\"_blank\" href=https://colab.research.google.com/notebooks/data_table.ipynb>data table notebook</a>'\n",
              "            + ' to learn more about interactive tables.';\n",
              "          element.innerHTML = '';\n",
              "          dataTable['output_type'] = 'display_data';\n",
              "          await google.colab.output.renderOutput(dataTable, element);\n",
              "          const docLink = document.createElement('div');\n",
              "          docLink.innerHTML = docLinkHtml;\n",
              "          element.appendChild(docLink);\n",
              "        }\n",
              "      </script>\n",
              "    </div>\n",
              "  </div>\n",
              "  "
            ]
          },
          "metadata": {},
          "execution_count": 397
        }
      ]
    },
    {
      "cell_type": "code",
      "source": [
        "X = data.drop('Time_taken_(min)',axis =1).values\n",
        "y = data['Time_taken_(min)'].values"
      ],
      "metadata": {
        "id": "x7SEsrjXMbyX"
      },
      "execution_count": 398,
      "outputs": []
    },
    {
      "cell_type": "markdown",
      "source": [
        "## Linear Regression"
      ],
      "metadata": {
        "id": "8KEZe_NLMgKJ"
      }
    },
    {
      "cell_type": "code",
      "source": [
        "model_LR = LinearRegression()\n",
        "model_LR.fit(X,y)"
      ],
      "metadata": {
        "colab": {
          "base_uri": "https://localhost:8080/"
        },
        "id": "1wvc4XMiMfcC",
        "outputId": "c8a2b4ba-a721-404a-fb83-d6c7b208a61b"
      },
      "execution_count": 399,
      "outputs": [
        {
          "output_type": "execute_result",
          "data": {
            "text/plain": [
              "LinearRegression()"
            ]
          },
          "metadata": {},
          "execution_count": 399
        }
      ]
    },
    {
      "cell_type": "code",
      "source": [
        "yHat_LR = model_LR.predict(X)"
      ],
      "metadata": {
        "id": "uYxK8dDSMmNf"
      },
      "execution_count": 400,
      "outputs": []
    },
    {
      "cell_type": "code",
      "source": [
        "mse(yHat_LR,y)"
      ],
      "metadata": {
        "colab": {
          "base_uri": "https://localhost:8080/"
        },
        "id": "-MTD4b2TMrHe",
        "outputId": "0791d428-1249-44bc-fc11-6d358ac1ae26"
      },
      "execution_count": 401,
      "outputs": [
        {
          "output_type": "execute_result",
          "data": {
            "text/plain": [
              "56.279094409903564"
            ]
          },
          "metadata": {},
          "execution_count": 401
        }
      ]
    },
    {
      "cell_type": "markdown",
      "source": [
        "## Polynomial Regression"
      ],
      "metadata": {
        "id": "DUn120xuM86_"
      }
    },
    {
      "cell_type": "code",
      "source": [
        "from sklearn.preprocessing import PolynomialFeatures\n",
        "from sklearn.linear_model import LinearRegression\n",
        "\n",
        "d5 = PolynomialFeatures(degree = 5)\n",
        "X_poly = d5.fit_transform(X)\n",
        "\n",
        "model_poly = LinearRegression()\n",
        "model_poly.fit(X_poly, y)"
      ],
      "metadata": {
        "colab": {
          "base_uri": "https://localhost:8080/"
        },
        "id": "qyLPp_c-MtCA",
        "outputId": "8fd2587a-67a7-4c37-c2c5-29b15cc98555"
      },
      "execution_count": 402,
      "outputs": [
        {
          "output_type": "execute_result",
          "data": {
            "text/plain": [
              "LinearRegression()"
            ]
          },
          "metadata": {},
          "execution_count": 402
        }
      ]
    },
    {
      "cell_type": "code",
      "source": [
        "yHat_poly = model_poly.predict(d5.fit_transform(X))"
      ],
      "metadata": {
        "id": "2ez4FjIrNCkT"
      },
      "execution_count": 403,
      "outputs": []
    },
    {
      "cell_type": "code",
      "source": [
        "mse(yHat_poly,y)"
      ],
      "metadata": {
        "colab": {
          "base_uri": "https://localhost:8080/"
        },
        "id": "W0jh0s-aNEnf",
        "outputId": "feb0b28c-c0d7-409d-f75c-ad54a2242e82"
      },
      "execution_count": 404,
      "outputs": [
        {
          "output_type": "execute_result",
          "data": {
            "text/plain": [
              "46.779589908533666"
            ]
          },
          "metadata": {},
          "execution_count": 404
        }
      ]
    }
  ]
}